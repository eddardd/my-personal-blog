{
  "nbformat": 4,
  "nbformat_minor": 0,
  "metadata": {
    "colab": {
      "name": "Optimal Transport for Domain Adaptation.ipynb",
      "provenance": [],
      "collapsed_sections": [
        "eE6SrI8NPjWL"
      ],
      "toc_visible": true
    },
    "kernelspec": {
      "name": "python3",
      "display_name": "Python 3"
    },
    "language_info": {
      "name": "python"
    },
    "widgets": {
      "application/vnd.jupyter.widget-state+json": {
        "4dfb1a12a4a645f3ae961540e9bb26d5": {
          "model_module": "@jupyter-widgets/controls",
          "model_name": "HBoxModel",
          "model_module_version": "1.5.0",
          "state": {
            "_dom_classes": [],
            "_model_module": "@jupyter-widgets/controls",
            "_model_module_version": "1.5.0",
            "_model_name": "HBoxModel",
            "_view_count": null,
            "_view_module": "@jupyter-widgets/controls",
            "_view_module_version": "1.5.0",
            "_view_name": "HBoxView",
            "box_style": "",
            "children": [
              "IPY_MODEL_1773399eb33546579a544a78f8842a45",
              "IPY_MODEL_0b04bc4f70bb4c5f8796411a161847ac",
              "IPY_MODEL_ef05ec569a304719b81c46db646866a5"
            ],
            "layout": "IPY_MODEL_e6ddb2c36fa5446ea2556ac095b3fcce"
          }
        },
        "1773399eb33546579a544a78f8842a45": {
          "model_module": "@jupyter-widgets/controls",
          "model_name": "HTMLModel",
          "model_module_version": "1.5.0",
          "state": {
            "_dom_classes": [],
            "_model_module": "@jupyter-widgets/controls",
            "_model_module_version": "1.5.0",
            "_model_name": "HTMLModel",
            "_view_count": null,
            "_view_module": "@jupyter-widgets/controls",
            "_view_module_version": "1.5.0",
            "_view_name": "HTMLView",
            "description": "",
            "description_tooltip": null,
            "layout": "IPY_MODEL_db270fd617f846e69f9897ff1f07520d",
            "placeholder": "​",
            "style": "IPY_MODEL_7b21f8ccfb054d31b6aae9563ee959ab",
            "value": ""
          }
        },
        "0b04bc4f70bb4c5f8796411a161847ac": {
          "model_module": "@jupyter-widgets/controls",
          "model_name": "FloatProgressModel",
          "model_module_version": "1.5.0",
          "state": {
            "_dom_classes": [],
            "_model_module": "@jupyter-widgets/controls",
            "_model_module_version": "1.5.0",
            "_model_name": "FloatProgressModel",
            "_view_count": null,
            "_view_module": "@jupyter-widgets/controls",
            "_view_module_version": "1.5.0",
            "_view_name": "ProgressView",
            "bar_style": "success",
            "description": "",
            "description_tooltip": null,
            "layout": "IPY_MODEL_80944d8717a541df9be603380aa20a77",
            "max": 9912422,
            "min": 0,
            "orientation": "horizontal",
            "style": "IPY_MODEL_d79fe34f97424f7cba476326a4153426",
            "value": 9912422
          }
        },
        "ef05ec569a304719b81c46db646866a5": {
          "model_module": "@jupyter-widgets/controls",
          "model_name": "HTMLModel",
          "model_module_version": "1.5.0",
          "state": {
            "_dom_classes": [],
            "_model_module": "@jupyter-widgets/controls",
            "_model_module_version": "1.5.0",
            "_model_name": "HTMLModel",
            "_view_count": null,
            "_view_module": "@jupyter-widgets/controls",
            "_view_module_version": "1.5.0",
            "_view_name": "HTMLView",
            "description": "",
            "description_tooltip": null,
            "layout": "IPY_MODEL_7f7874c56e2049b8822ec0ee9cc7bea9",
            "placeholder": "​",
            "style": "IPY_MODEL_68ee9c9438ce4c9b89c404fb6321236f",
            "value": " 9913344/? [00:00&lt;00:00, 36719847.68it/s]"
          }
        },
        "e6ddb2c36fa5446ea2556ac095b3fcce": {
          "model_module": "@jupyter-widgets/base",
          "model_name": "LayoutModel",
          "model_module_version": "1.2.0",
          "state": {
            "_model_module": "@jupyter-widgets/base",
            "_model_module_version": "1.2.0",
            "_model_name": "LayoutModel",
            "_view_count": null,
            "_view_module": "@jupyter-widgets/base",
            "_view_module_version": "1.2.0",
            "_view_name": "LayoutView",
            "align_content": null,
            "align_items": null,
            "align_self": null,
            "border": null,
            "bottom": null,
            "display": null,
            "flex": null,
            "flex_flow": null,
            "grid_area": null,
            "grid_auto_columns": null,
            "grid_auto_flow": null,
            "grid_auto_rows": null,
            "grid_column": null,
            "grid_gap": null,
            "grid_row": null,
            "grid_template_areas": null,
            "grid_template_columns": null,
            "grid_template_rows": null,
            "height": null,
            "justify_content": null,
            "justify_items": null,
            "left": null,
            "margin": null,
            "max_height": null,
            "max_width": null,
            "min_height": null,
            "min_width": null,
            "object_fit": null,
            "object_position": null,
            "order": null,
            "overflow": null,
            "overflow_x": null,
            "overflow_y": null,
            "padding": null,
            "right": null,
            "top": null,
            "visibility": null,
            "width": null
          }
        },
        "db270fd617f846e69f9897ff1f07520d": {
          "model_module": "@jupyter-widgets/base",
          "model_name": "LayoutModel",
          "model_module_version": "1.2.0",
          "state": {
            "_model_module": "@jupyter-widgets/base",
            "_model_module_version": "1.2.0",
            "_model_name": "LayoutModel",
            "_view_count": null,
            "_view_module": "@jupyter-widgets/base",
            "_view_module_version": "1.2.0",
            "_view_name": "LayoutView",
            "align_content": null,
            "align_items": null,
            "align_self": null,
            "border": null,
            "bottom": null,
            "display": null,
            "flex": null,
            "flex_flow": null,
            "grid_area": null,
            "grid_auto_columns": null,
            "grid_auto_flow": null,
            "grid_auto_rows": null,
            "grid_column": null,
            "grid_gap": null,
            "grid_row": null,
            "grid_template_areas": null,
            "grid_template_columns": null,
            "grid_template_rows": null,
            "height": null,
            "justify_content": null,
            "justify_items": null,
            "left": null,
            "margin": null,
            "max_height": null,
            "max_width": null,
            "min_height": null,
            "min_width": null,
            "object_fit": null,
            "object_position": null,
            "order": null,
            "overflow": null,
            "overflow_x": null,
            "overflow_y": null,
            "padding": null,
            "right": null,
            "top": null,
            "visibility": null,
            "width": null
          }
        },
        "7b21f8ccfb054d31b6aae9563ee959ab": {
          "model_module": "@jupyter-widgets/controls",
          "model_name": "DescriptionStyleModel",
          "model_module_version": "1.5.0",
          "state": {
            "_model_module": "@jupyter-widgets/controls",
            "_model_module_version": "1.5.0",
            "_model_name": "DescriptionStyleModel",
            "_view_count": null,
            "_view_module": "@jupyter-widgets/base",
            "_view_module_version": "1.2.0",
            "_view_name": "StyleView",
            "description_width": ""
          }
        },
        "80944d8717a541df9be603380aa20a77": {
          "model_module": "@jupyter-widgets/base",
          "model_name": "LayoutModel",
          "model_module_version": "1.2.0",
          "state": {
            "_model_module": "@jupyter-widgets/base",
            "_model_module_version": "1.2.0",
            "_model_name": "LayoutModel",
            "_view_count": null,
            "_view_module": "@jupyter-widgets/base",
            "_view_module_version": "1.2.0",
            "_view_name": "LayoutView",
            "align_content": null,
            "align_items": null,
            "align_self": null,
            "border": null,
            "bottom": null,
            "display": null,
            "flex": null,
            "flex_flow": null,
            "grid_area": null,
            "grid_auto_columns": null,
            "grid_auto_flow": null,
            "grid_auto_rows": null,
            "grid_column": null,
            "grid_gap": null,
            "grid_row": null,
            "grid_template_areas": null,
            "grid_template_columns": null,
            "grid_template_rows": null,
            "height": null,
            "justify_content": null,
            "justify_items": null,
            "left": null,
            "margin": null,
            "max_height": null,
            "max_width": null,
            "min_height": null,
            "min_width": null,
            "object_fit": null,
            "object_position": null,
            "order": null,
            "overflow": null,
            "overflow_x": null,
            "overflow_y": null,
            "padding": null,
            "right": null,
            "top": null,
            "visibility": null,
            "width": null
          }
        },
        "d79fe34f97424f7cba476326a4153426": {
          "model_module": "@jupyter-widgets/controls",
          "model_name": "ProgressStyleModel",
          "model_module_version": "1.5.0",
          "state": {
            "_model_module": "@jupyter-widgets/controls",
            "_model_module_version": "1.5.0",
            "_model_name": "ProgressStyleModel",
            "_view_count": null,
            "_view_module": "@jupyter-widgets/base",
            "_view_module_version": "1.2.0",
            "_view_name": "StyleView",
            "bar_color": null,
            "description_width": ""
          }
        },
        "7f7874c56e2049b8822ec0ee9cc7bea9": {
          "model_module": "@jupyter-widgets/base",
          "model_name": "LayoutModel",
          "model_module_version": "1.2.0",
          "state": {
            "_model_module": "@jupyter-widgets/base",
            "_model_module_version": "1.2.0",
            "_model_name": "LayoutModel",
            "_view_count": null,
            "_view_module": "@jupyter-widgets/base",
            "_view_module_version": "1.2.0",
            "_view_name": "LayoutView",
            "align_content": null,
            "align_items": null,
            "align_self": null,
            "border": null,
            "bottom": null,
            "display": null,
            "flex": null,
            "flex_flow": null,
            "grid_area": null,
            "grid_auto_columns": null,
            "grid_auto_flow": null,
            "grid_auto_rows": null,
            "grid_column": null,
            "grid_gap": null,
            "grid_row": null,
            "grid_template_areas": null,
            "grid_template_columns": null,
            "grid_template_rows": null,
            "height": null,
            "justify_content": null,
            "justify_items": null,
            "left": null,
            "margin": null,
            "max_height": null,
            "max_width": null,
            "min_height": null,
            "min_width": null,
            "object_fit": null,
            "object_position": null,
            "order": null,
            "overflow": null,
            "overflow_x": null,
            "overflow_y": null,
            "padding": null,
            "right": null,
            "top": null,
            "visibility": null,
            "width": null
          }
        },
        "68ee9c9438ce4c9b89c404fb6321236f": {
          "model_module": "@jupyter-widgets/controls",
          "model_name": "DescriptionStyleModel",
          "model_module_version": "1.5.0",
          "state": {
            "_model_module": "@jupyter-widgets/controls",
            "_model_module_version": "1.5.0",
            "_model_name": "DescriptionStyleModel",
            "_view_count": null,
            "_view_module": "@jupyter-widgets/base",
            "_view_module_version": "1.2.0",
            "_view_name": "StyleView",
            "description_width": ""
          }
        },
        "f44828aa912a4c28be954b32a7b71e7b": {
          "model_module": "@jupyter-widgets/controls",
          "model_name": "HBoxModel",
          "model_module_version": "1.5.0",
          "state": {
            "_dom_classes": [],
            "_model_module": "@jupyter-widgets/controls",
            "_model_module_version": "1.5.0",
            "_model_name": "HBoxModel",
            "_view_count": null,
            "_view_module": "@jupyter-widgets/controls",
            "_view_module_version": "1.5.0",
            "_view_name": "HBoxView",
            "box_style": "",
            "children": [
              "IPY_MODEL_b1a2296e401c42cea2623d95ea3e732d",
              "IPY_MODEL_696c8450dc314ba4ad6412952a63dc67",
              "IPY_MODEL_bb211283dd564df08777b8610b7a40b8"
            ],
            "layout": "IPY_MODEL_50cb83dd536b47ffbb8867631cdcfa4c"
          }
        },
        "b1a2296e401c42cea2623d95ea3e732d": {
          "model_module": "@jupyter-widgets/controls",
          "model_name": "HTMLModel",
          "model_module_version": "1.5.0",
          "state": {
            "_dom_classes": [],
            "_model_module": "@jupyter-widgets/controls",
            "_model_module_version": "1.5.0",
            "_model_name": "HTMLModel",
            "_view_count": null,
            "_view_module": "@jupyter-widgets/controls",
            "_view_module_version": "1.5.0",
            "_view_name": "HTMLView",
            "description": "",
            "description_tooltip": null,
            "layout": "IPY_MODEL_7fe9a14fc6c14c8986d6fd8db440c69b",
            "placeholder": "​",
            "style": "IPY_MODEL_acdc77d32760439c90d64eee1cc046eb",
            "value": ""
          }
        },
        "696c8450dc314ba4ad6412952a63dc67": {
          "model_module": "@jupyter-widgets/controls",
          "model_name": "FloatProgressModel",
          "model_module_version": "1.5.0",
          "state": {
            "_dom_classes": [],
            "_model_module": "@jupyter-widgets/controls",
            "_model_module_version": "1.5.0",
            "_model_name": "FloatProgressModel",
            "_view_count": null,
            "_view_module": "@jupyter-widgets/controls",
            "_view_module_version": "1.5.0",
            "_view_name": "ProgressView",
            "bar_style": "success",
            "description": "",
            "description_tooltip": null,
            "layout": "IPY_MODEL_c71b599be91f44a5aad423d25e8b4125",
            "max": 28881,
            "min": 0,
            "orientation": "horizontal",
            "style": "IPY_MODEL_b723c91fe33a4ce5afce2df4257cae50",
            "value": 28881
          }
        },
        "bb211283dd564df08777b8610b7a40b8": {
          "model_module": "@jupyter-widgets/controls",
          "model_name": "HTMLModel",
          "model_module_version": "1.5.0",
          "state": {
            "_dom_classes": [],
            "_model_module": "@jupyter-widgets/controls",
            "_model_module_version": "1.5.0",
            "_model_name": "HTMLModel",
            "_view_count": null,
            "_view_module": "@jupyter-widgets/controls",
            "_view_module_version": "1.5.0",
            "_view_name": "HTMLView",
            "description": "",
            "description_tooltip": null,
            "layout": "IPY_MODEL_f6f6590536d34a99a6968acbc1a3bbb5",
            "placeholder": "​",
            "style": "IPY_MODEL_afe820a1acfa41889500491d0a9f4e8b",
            "value": " 29696/? [00:00&lt;00:00, 309600.28it/s]"
          }
        },
        "50cb83dd536b47ffbb8867631cdcfa4c": {
          "model_module": "@jupyter-widgets/base",
          "model_name": "LayoutModel",
          "model_module_version": "1.2.0",
          "state": {
            "_model_module": "@jupyter-widgets/base",
            "_model_module_version": "1.2.0",
            "_model_name": "LayoutModel",
            "_view_count": null,
            "_view_module": "@jupyter-widgets/base",
            "_view_module_version": "1.2.0",
            "_view_name": "LayoutView",
            "align_content": null,
            "align_items": null,
            "align_self": null,
            "border": null,
            "bottom": null,
            "display": null,
            "flex": null,
            "flex_flow": null,
            "grid_area": null,
            "grid_auto_columns": null,
            "grid_auto_flow": null,
            "grid_auto_rows": null,
            "grid_column": null,
            "grid_gap": null,
            "grid_row": null,
            "grid_template_areas": null,
            "grid_template_columns": null,
            "grid_template_rows": null,
            "height": null,
            "justify_content": null,
            "justify_items": null,
            "left": null,
            "margin": null,
            "max_height": null,
            "max_width": null,
            "min_height": null,
            "min_width": null,
            "object_fit": null,
            "object_position": null,
            "order": null,
            "overflow": null,
            "overflow_x": null,
            "overflow_y": null,
            "padding": null,
            "right": null,
            "top": null,
            "visibility": null,
            "width": null
          }
        },
        "7fe9a14fc6c14c8986d6fd8db440c69b": {
          "model_module": "@jupyter-widgets/base",
          "model_name": "LayoutModel",
          "model_module_version": "1.2.0",
          "state": {
            "_model_module": "@jupyter-widgets/base",
            "_model_module_version": "1.2.0",
            "_model_name": "LayoutModel",
            "_view_count": null,
            "_view_module": "@jupyter-widgets/base",
            "_view_module_version": "1.2.0",
            "_view_name": "LayoutView",
            "align_content": null,
            "align_items": null,
            "align_self": null,
            "border": null,
            "bottom": null,
            "display": null,
            "flex": null,
            "flex_flow": null,
            "grid_area": null,
            "grid_auto_columns": null,
            "grid_auto_flow": null,
            "grid_auto_rows": null,
            "grid_column": null,
            "grid_gap": null,
            "grid_row": null,
            "grid_template_areas": null,
            "grid_template_columns": null,
            "grid_template_rows": null,
            "height": null,
            "justify_content": null,
            "justify_items": null,
            "left": null,
            "margin": null,
            "max_height": null,
            "max_width": null,
            "min_height": null,
            "min_width": null,
            "object_fit": null,
            "object_position": null,
            "order": null,
            "overflow": null,
            "overflow_x": null,
            "overflow_y": null,
            "padding": null,
            "right": null,
            "top": null,
            "visibility": null,
            "width": null
          }
        },
        "acdc77d32760439c90d64eee1cc046eb": {
          "model_module": "@jupyter-widgets/controls",
          "model_name": "DescriptionStyleModel",
          "model_module_version": "1.5.0",
          "state": {
            "_model_module": "@jupyter-widgets/controls",
            "_model_module_version": "1.5.0",
            "_model_name": "DescriptionStyleModel",
            "_view_count": null,
            "_view_module": "@jupyter-widgets/base",
            "_view_module_version": "1.2.0",
            "_view_name": "StyleView",
            "description_width": ""
          }
        },
        "c71b599be91f44a5aad423d25e8b4125": {
          "model_module": "@jupyter-widgets/base",
          "model_name": "LayoutModel",
          "model_module_version": "1.2.0",
          "state": {
            "_model_module": "@jupyter-widgets/base",
            "_model_module_version": "1.2.0",
            "_model_name": "LayoutModel",
            "_view_count": null,
            "_view_module": "@jupyter-widgets/base",
            "_view_module_version": "1.2.0",
            "_view_name": "LayoutView",
            "align_content": null,
            "align_items": null,
            "align_self": null,
            "border": null,
            "bottom": null,
            "display": null,
            "flex": null,
            "flex_flow": null,
            "grid_area": null,
            "grid_auto_columns": null,
            "grid_auto_flow": null,
            "grid_auto_rows": null,
            "grid_column": null,
            "grid_gap": null,
            "grid_row": null,
            "grid_template_areas": null,
            "grid_template_columns": null,
            "grid_template_rows": null,
            "height": null,
            "justify_content": null,
            "justify_items": null,
            "left": null,
            "margin": null,
            "max_height": null,
            "max_width": null,
            "min_height": null,
            "min_width": null,
            "object_fit": null,
            "object_position": null,
            "order": null,
            "overflow": null,
            "overflow_x": null,
            "overflow_y": null,
            "padding": null,
            "right": null,
            "top": null,
            "visibility": null,
            "width": null
          }
        },
        "b723c91fe33a4ce5afce2df4257cae50": {
          "model_module": "@jupyter-widgets/controls",
          "model_name": "ProgressStyleModel",
          "model_module_version": "1.5.0",
          "state": {
            "_model_module": "@jupyter-widgets/controls",
            "_model_module_version": "1.5.0",
            "_model_name": "ProgressStyleModel",
            "_view_count": null,
            "_view_module": "@jupyter-widgets/base",
            "_view_module_version": "1.2.0",
            "_view_name": "StyleView",
            "bar_color": null,
            "description_width": ""
          }
        },
        "f6f6590536d34a99a6968acbc1a3bbb5": {
          "model_module": "@jupyter-widgets/base",
          "model_name": "LayoutModel",
          "model_module_version": "1.2.0",
          "state": {
            "_model_module": "@jupyter-widgets/base",
            "_model_module_version": "1.2.0",
            "_model_name": "LayoutModel",
            "_view_count": null,
            "_view_module": "@jupyter-widgets/base",
            "_view_module_version": "1.2.0",
            "_view_name": "LayoutView",
            "align_content": null,
            "align_items": null,
            "align_self": null,
            "border": null,
            "bottom": null,
            "display": null,
            "flex": null,
            "flex_flow": null,
            "grid_area": null,
            "grid_auto_columns": null,
            "grid_auto_flow": null,
            "grid_auto_rows": null,
            "grid_column": null,
            "grid_gap": null,
            "grid_row": null,
            "grid_template_areas": null,
            "grid_template_columns": null,
            "grid_template_rows": null,
            "height": null,
            "justify_content": null,
            "justify_items": null,
            "left": null,
            "margin": null,
            "max_height": null,
            "max_width": null,
            "min_height": null,
            "min_width": null,
            "object_fit": null,
            "object_position": null,
            "order": null,
            "overflow": null,
            "overflow_x": null,
            "overflow_y": null,
            "padding": null,
            "right": null,
            "top": null,
            "visibility": null,
            "width": null
          }
        },
        "afe820a1acfa41889500491d0a9f4e8b": {
          "model_module": "@jupyter-widgets/controls",
          "model_name": "DescriptionStyleModel",
          "model_module_version": "1.5.0",
          "state": {
            "_model_module": "@jupyter-widgets/controls",
            "_model_module_version": "1.5.0",
            "_model_name": "DescriptionStyleModel",
            "_view_count": null,
            "_view_module": "@jupyter-widgets/base",
            "_view_module_version": "1.2.0",
            "_view_name": "StyleView",
            "description_width": ""
          }
        },
        "6aeb4e456c04418c932a56a21d3a7cc2": {
          "model_module": "@jupyter-widgets/controls",
          "model_name": "HBoxModel",
          "model_module_version": "1.5.0",
          "state": {
            "_dom_classes": [],
            "_model_module": "@jupyter-widgets/controls",
            "_model_module_version": "1.5.0",
            "_model_name": "HBoxModel",
            "_view_count": null,
            "_view_module": "@jupyter-widgets/controls",
            "_view_module_version": "1.5.0",
            "_view_name": "HBoxView",
            "box_style": "",
            "children": [
              "IPY_MODEL_94a77363b13742acaf59b9396263696c",
              "IPY_MODEL_472e3695bc024012ba34fb82d07b6ded",
              "IPY_MODEL_c903ee14a413427eb6fba7d2c607cc41"
            ],
            "layout": "IPY_MODEL_f0ccd832fb804bdf9b02357b7cf55177"
          }
        },
        "94a77363b13742acaf59b9396263696c": {
          "model_module": "@jupyter-widgets/controls",
          "model_name": "HTMLModel",
          "model_module_version": "1.5.0",
          "state": {
            "_dom_classes": [],
            "_model_module": "@jupyter-widgets/controls",
            "_model_module_version": "1.5.0",
            "_model_name": "HTMLModel",
            "_view_count": null,
            "_view_module": "@jupyter-widgets/controls",
            "_view_module_version": "1.5.0",
            "_view_name": "HTMLView",
            "description": "",
            "description_tooltip": null,
            "layout": "IPY_MODEL_b0881aa8546d49509f667a72d937211e",
            "placeholder": "​",
            "style": "IPY_MODEL_cbbd024cec264d70a04e047da7654c89",
            "value": ""
          }
        },
        "472e3695bc024012ba34fb82d07b6ded": {
          "model_module": "@jupyter-widgets/controls",
          "model_name": "FloatProgressModel",
          "model_module_version": "1.5.0",
          "state": {
            "_dom_classes": [],
            "_model_module": "@jupyter-widgets/controls",
            "_model_module_version": "1.5.0",
            "_model_name": "FloatProgressModel",
            "_view_count": null,
            "_view_module": "@jupyter-widgets/controls",
            "_view_module_version": "1.5.0",
            "_view_name": "ProgressView",
            "bar_style": "success",
            "description": "",
            "description_tooltip": null,
            "layout": "IPY_MODEL_66efc0e72c2349e0808bde08277c2004",
            "max": 1648877,
            "min": 0,
            "orientation": "horizontal",
            "style": "IPY_MODEL_2f9a7c8802d04482b474af2abb4db0fa",
            "value": 1648877
          }
        },
        "c903ee14a413427eb6fba7d2c607cc41": {
          "model_module": "@jupyter-widgets/controls",
          "model_name": "HTMLModel",
          "model_module_version": "1.5.0",
          "state": {
            "_dom_classes": [],
            "_model_module": "@jupyter-widgets/controls",
            "_model_module_version": "1.5.0",
            "_model_name": "HTMLModel",
            "_view_count": null,
            "_view_module": "@jupyter-widgets/controls",
            "_view_module_version": "1.5.0",
            "_view_name": "HTMLView",
            "description": "",
            "description_tooltip": null,
            "layout": "IPY_MODEL_8cb4917fb9924065b3ea8c9e392fba21",
            "placeholder": "​",
            "style": "IPY_MODEL_dc6ac7976a93449fb667556b1185206c",
            "value": " 1649664/? [00:00&lt;00:00, 5061942.95it/s]"
          }
        },
        "f0ccd832fb804bdf9b02357b7cf55177": {
          "model_module": "@jupyter-widgets/base",
          "model_name": "LayoutModel",
          "model_module_version": "1.2.0",
          "state": {
            "_model_module": "@jupyter-widgets/base",
            "_model_module_version": "1.2.0",
            "_model_name": "LayoutModel",
            "_view_count": null,
            "_view_module": "@jupyter-widgets/base",
            "_view_module_version": "1.2.0",
            "_view_name": "LayoutView",
            "align_content": null,
            "align_items": null,
            "align_self": null,
            "border": null,
            "bottom": null,
            "display": null,
            "flex": null,
            "flex_flow": null,
            "grid_area": null,
            "grid_auto_columns": null,
            "grid_auto_flow": null,
            "grid_auto_rows": null,
            "grid_column": null,
            "grid_gap": null,
            "grid_row": null,
            "grid_template_areas": null,
            "grid_template_columns": null,
            "grid_template_rows": null,
            "height": null,
            "justify_content": null,
            "justify_items": null,
            "left": null,
            "margin": null,
            "max_height": null,
            "max_width": null,
            "min_height": null,
            "min_width": null,
            "object_fit": null,
            "object_position": null,
            "order": null,
            "overflow": null,
            "overflow_x": null,
            "overflow_y": null,
            "padding": null,
            "right": null,
            "top": null,
            "visibility": null,
            "width": null
          }
        },
        "b0881aa8546d49509f667a72d937211e": {
          "model_module": "@jupyter-widgets/base",
          "model_name": "LayoutModel",
          "model_module_version": "1.2.0",
          "state": {
            "_model_module": "@jupyter-widgets/base",
            "_model_module_version": "1.2.0",
            "_model_name": "LayoutModel",
            "_view_count": null,
            "_view_module": "@jupyter-widgets/base",
            "_view_module_version": "1.2.0",
            "_view_name": "LayoutView",
            "align_content": null,
            "align_items": null,
            "align_self": null,
            "border": null,
            "bottom": null,
            "display": null,
            "flex": null,
            "flex_flow": null,
            "grid_area": null,
            "grid_auto_columns": null,
            "grid_auto_flow": null,
            "grid_auto_rows": null,
            "grid_column": null,
            "grid_gap": null,
            "grid_row": null,
            "grid_template_areas": null,
            "grid_template_columns": null,
            "grid_template_rows": null,
            "height": null,
            "justify_content": null,
            "justify_items": null,
            "left": null,
            "margin": null,
            "max_height": null,
            "max_width": null,
            "min_height": null,
            "min_width": null,
            "object_fit": null,
            "object_position": null,
            "order": null,
            "overflow": null,
            "overflow_x": null,
            "overflow_y": null,
            "padding": null,
            "right": null,
            "top": null,
            "visibility": null,
            "width": null
          }
        },
        "cbbd024cec264d70a04e047da7654c89": {
          "model_module": "@jupyter-widgets/controls",
          "model_name": "DescriptionStyleModel",
          "model_module_version": "1.5.0",
          "state": {
            "_model_module": "@jupyter-widgets/controls",
            "_model_module_version": "1.5.0",
            "_model_name": "DescriptionStyleModel",
            "_view_count": null,
            "_view_module": "@jupyter-widgets/base",
            "_view_module_version": "1.2.0",
            "_view_name": "StyleView",
            "description_width": ""
          }
        },
        "66efc0e72c2349e0808bde08277c2004": {
          "model_module": "@jupyter-widgets/base",
          "model_name": "LayoutModel",
          "model_module_version": "1.2.0",
          "state": {
            "_model_module": "@jupyter-widgets/base",
            "_model_module_version": "1.2.0",
            "_model_name": "LayoutModel",
            "_view_count": null,
            "_view_module": "@jupyter-widgets/base",
            "_view_module_version": "1.2.0",
            "_view_name": "LayoutView",
            "align_content": null,
            "align_items": null,
            "align_self": null,
            "border": null,
            "bottom": null,
            "display": null,
            "flex": null,
            "flex_flow": null,
            "grid_area": null,
            "grid_auto_columns": null,
            "grid_auto_flow": null,
            "grid_auto_rows": null,
            "grid_column": null,
            "grid_gap": null,
            "grid_row": null,
            "grid_template_areas": null,
            "grid_template_columns": null,
            "grid_template_rows": null,
            "height": null,
            "justify_content": null,
            "justify_items": null,
            "left": null,
            "margin": null,
            "max_height": null,
            "max_width": null,
            "min_height": null,
            "min_width": null,
            "object_fit": null,
            "object_position": null,
            "order": null,
            "overflow": null,
            "overflow_x": null,
            "overflow_y": null,
            "padding": null,
            "right": null,
            "top": null,
            "visibility": null,
            "width": null
          }
        },
        "2f9a7c8802d04482b474af2abb4db0fa": {
          "model_module": "@jupyter-widgets/controls",
          "model_name": "ProgressStyleModel",
          "model_module_version": "1.5.0",
          "state": {
            "_model_module": "@jupyter-widgets/controls",
            "_model_module_version": "1.5.0",
            "_model_name": "ProgressStyleModel",
            "_view_count": null,
            "_view_module": "@jupyter-widgets/base",
            "_view_module_version": "1.2.0",
            "_view_name": "StyleView",
            "bar_color": null,
            "description_width": ""
          }
        },
        "8cb4917fb9924065b3ea8c9e392fba21": {
          "model_module": "@jupyter-widgets/base",
          "model_name": "LayoutModel",
          "model_module_version": "1.2.0",
          "state": {
            "_model_module": "@jupyter-widgets/base",
            "_model_module_version": "1.2.0",
            "_model_name": "LayoutModel",
            "_view_count": null,
            "_view_module": "@jupyter-widgets/base",
            "_view_module_version": "1.2.0",
            "_view_name": "LayoutView",
            "align_content": null,
            "align_items": null,
            "align_self": null,
            "border": null,
            "bottom": null,
            "display": null,
            "flex": null,
            "flex_flow": null,
            "grid_area": null,
            "grid_auto_columns": null,
            "grid_auto_flow": null,
            "grid_auto_rows": null,
            "grid_column": null,
            "grid_gap": null,
            "grid_row": null,
            "grid_template_areas": null,
            "grid_template_columns": null,
            "grid_template_rows": null,
            "height": null,
            "justify_content": null,
            "justify_items": null,
            "left": null,
            "margin": null,
            "max_height": null,
            "max_width": null,
            "min_height": null,
            "min_width": null,
            "object_fit": null,
            "object_position": null,
            "order": null,
            "overflow": null,
            "overflow_x": null,
            "overflow_y": null,
            "padding": null,
            "right": null,
            "top": null,
            "visibility": null,
            "width": null
          }
        },
        "dc6ac7976a93449fb667556b1185206c": {
          "model_module": "@jupyter-widgets/controls",
          "model_name": "DescriptionStyleModel",
          "model_module_version": "1.5.0",
          "state": {
            "_model_module": "@jupyter-widgets/controls",
            "_model_module_version": "1.5.0",
            "_model_name": "DescriptionStyleModel",
            "_view_count": null,
            "_view_module": "@jupyter-widgets/base",
            "_view_module_version": "1.2.0",
            "_view_name": "StyleView",
            "description_width": ""
          }
        },
        "e9959a4a56bc4c8e8de9e6f8716d5117": {
          "model_module": "@jupyter-widgets/controls",
          "model_name": "HBoxModel",
          "model_module_version": "1.5.0",
          "state": {
            "_dom_classes": [],
            "_model_module": "@jupyter-widgets/controls",
            "_model_module_version": "1.5.0",
            "_model_name": "HBoxModel",
            "_view_count": null,
            "_view_module": "@jupyter-widgets/controls",
            "_view_module_version": "1.5.0",
            "_view_name": "HBoxView",
            "box_style": "",
            "children": [
              "IPY_MODEL_213da65c14c646bc89fa46eb59a238c9",
              "IPY_MODEL_bdd94a9e2c6d4a2caea5daa050e76cb9",
              "IPY_MODEL_a9b0eaac3bce483d978ba7d40b1e2405"
            ],
            "layout": "IPY_MODEL_5bd7d3777a0a428bbbd0334a0321a1e9"
          }
        },
        "213da65c14c646bc89fa46eb59a238c9": {
          "model_module": "@jupyter-widgets/controls",
          "model_name": "HTMLModel",
          "model_module_version": "1.5.0",
          "state": {
            "_dom_classes": [],
            "_model_module": "@jupyter-widgets/controls",
            "_model_module_version": "1.5.0",
            "_model_name": "HTMLModel",
            "_view_count": null,
            "_view_module": "@jupyter-widgets/controls",
            "_view_module_version": "1.5.0",
            "_view_name": "HTMLView",
            "description": "",
            "description_tooltip": null,
            "layout": "IPY_MODEL_d46527f23390479c8dc9a01a709362f8",
            "placeholder": "​",
            "style": "IPY_MODEL_03e0253505b4420cb2c1628a78880156",
            "value": ""
          }
        },
        "bdd94a9e2c6d4a2caea5daa050e76cb9": {
          "model_module": "@jupyter-widgets/controls",
          "model_name": "FloatProgressModel",
          "model_module_version": "1.5.0",
          "state": {
            "_dom_classes": [],
            "_model_module": "@jupyter-widgets/controls",
            "_model_module_version": "1.5.0",
            "_model_name": "FloatProgressModel",
            "_view_count": null,
            "_view_module": "@jupyter-widgets/controls",
            "_view_module_version": "1.5.0",
            "_view_name": "ProgressView",
            "bar_style": "success",
            "description": "",
            "description_tooltip": null,
            "layout": "IPY_MODEL_fdf560842c77422992752a511fdfa420",
            "max": 4542,
            "min": 0,
            "orientation": "horizontal",
            "style": "IPY_MODEL_b52560a5e05e4b0fbbce02e0532eaaba",
            "value": 4542
          }
        },
        "a9b0eaac3bce483d978ba7d40b1e2405": {
          "model_module": "@jupyter-widgets/controls",
          "model_name": "HTMLModel",
          "model_module_version": "1.5.0",
          "state": {
            "_dom_classes": [],
            "_model_module": "@jupyter-widgets/controls",
            "_model_module_version": "1.5.0",
            "_model_name": "HTMLModel",
            "_view_count": null,
            "_view_module": "@jupyter-widgets/controls",
            "_view_module_version": "1.5.0",
            "_view_name": "HTMLView",
            "description": "",
            "description_tooltip": null,
            "layout": "IPY_MODEL_3f55afabc7a64ddc93668a00d2fc3c19",
            "placeholder": "​",
            "style": "IPY_MODEL_902335a50ad94f5781d27ff1d2e5f3e2",
            "value": " 5120/? [00:00&lt;00:00, 10079.24it/s]"
          }
        },
        "5bd7d3777a0a428bbbd0334a0321a1e9": {
          "model_module": "@jupyter-widgets/base",
          "model_name": "LayoutModel",
          "model_module_version": "1.2.0",
          "state": {
            "_model_module": "@jupyter-widgets/base",
            "_model_module_version": "1.2.0",
            "_model_name": "LayoutModel",
            "_view_count": null,
            "_view_module": "@jupyter-widgets/base",
            "_view_module_version": "1.2.0",
            "_view_name": "LayoutView",
            "align_content": null,
            "align_items": null,
            "align_self": null,
            "border": null,
            "bottom": null,
            "display": null,
            "flex": null,
            "flex_flow": null,
            "grid_area": null,
            "grid_auto_columns": null,
            "grid_auto_flow": null,
            "grid_auto_rows": null,
            "grid_column": null,
            "grid_gap": null,
            "grid_row": null,
            "grid_template_areas": null,
            "grid_template_columns": null,
            "grid_template_rows": null,
            "height": null,
            "justify_content": null,
            "justify_items": null,
            "left": null,
            "margin": null,
            "max_height": null,
            "max_width": null,
            "min_height": null,
            "min_width": null,
            "object_fit": null,
            "object_position": null,
            "order": null,
            "overflow": null,
            "overflow_x": null,
            "overflow_y": null,
            "padding": null,
            "right": null,
            "top": null,
            "visibility": null,
            "width": null
          }
        },
        "d46527f23390479c8dc9a01a709362f8": {
          "model_module": "@jupyter-widgets/base",
          "model_name": "LayoutModel",
          "model_module_version": "1.2.0",
          "state": {
            "_model_module": "@jupyter-widgets/base",
            "_model_module_version": "1.2.0",
            "_model_name": "LayoutModel",
            "_view_count": null,
            "_view_module": "@jupyter-widgets/base",
            "_view_module_version": "1.2.0",
            "_view_name": "LayoutView",
            "align_content": null,
            "align_items": null,
            "align_self": null,
            "border": null,
            "bottom": null,
            "display": null,
            "flex": null,
            "flex_flow": null,
            "grid_area": null,
            "grid_auto_columns": null,
            "grid_auto_flow": null,
            "grid_auto_rows": null,
            "grid_column": null,
            "grid_gap": null,
            "grid_row": null,
            "grid_template_areas": null,
            "grid_template_columns": null,
            "grid_template_rows": null,
            "height": null,
            "justify_content": null,
            "justify_items": null,
            "left": null,
            "margin": null,
            "max_height": null,
            "max_width": null,
            "min_height": null,
            "min_width": null,
            "object_fit": null,
            "object_position": null,
            "order": null,
            "overflow": null,
            "overflow_x": null,
            "overflow_y": null,
            "padding": null,
            "right": null,
            "top": null,
            "visibility": null,
            "width": null
          }
        },
        "03e0253505b4420cb2c1628a78880156": {
          "model_module": "@jupyter-widgets/controls",
          "model_name": "DescriptionStyleModel",
          "model_module_version": "1.5.0",
          "state": {
            "_model_module": "@jupyter-widgets/controls",
            "_model_module_version": "1.5.0",
            "_model_name": "DescriptionStyleModel",
            "_view_count": null,
            "_view_module": "@jupyter-widgets/base",
            "_view_module_version": "1.2.0",
            "_view_name": "StyleView",
            "description_width": ""
          }
        },
        "fdf560842c77422992752a511fdfa420": {
          "model_module": "@jupyter-widgets/base",
          "model_name": "LayoutModel",
          "model_module_version": "1.2.0",
          "state": {
            "_model_module": "@jupyter-widgets/base",
            "_model_module_version": "1.2.0",
            "_model_name": "LayoutModel",
            "_view_count": null,
            "_view_module": "@jupyter-widgets/base",
            "_view_module_version": "1.2.0",
            "_view_name": "LayoutView",
            "align_content": null,
            "align_items": null,
            "align_self": null,
            "border": null,
            "bottom": null,
            "display": null,
            "flex": null,
            "flex_flow": null,
            "grid_area": null,
            "grid_auto_columns": null,
            "grid_auto_flow": null,
            "grid_auto_rows": null,
            "grid_column": null,
            "grid_gap": null,
            "grid_row": null,
            "grid_template_areas": null,
            "grid_template_columns": null,
            "grid_template_rows": null,
            "height": null,
            "justify_content": null,
            "justify_items": null,
            "left": null,
            "margin": null,
            "max_height": null,
            "max_width": null,
            "min_height": null,
            "min_width": null,
            "object_fit": null,
            "object_position": null,
            "order": null,
            "overflow": null,
            "overflow_x": null,
            "overflow_y": null,
            "padding": null,
            "right": null,
            "top": null,
            "visibility": null,
            "width": null
          }
        },
        "b52560a5e05e4b0fbbce02e0532eaaba": {
          "model_module": "@jupyter-widgets/controls",
          "model_name": "ProgressStyleModel",
          "model_module_version": "1.5.0",
          "state": {
            "_model_module": "@jupyter-widgets/controls",
            "_model_module_version": "1.5.0",
            "_model_name": "ProgressStyleModel",
            "_view_count": null,
            "_view_module": "@jupyter-widgets/base",
            "_view_module_version": "1.2.0",
            "_view_name": "StyleView",
            "bar_color": null,
            "description_width": ""
          }
        },
        "3f55afabc7a64ddc93668a00d2fc3c19": {
          "model_module": "@jupyter-widgets/base",
          "model_name": "LayoutModel",
          "model_module_version": "1.2.0",
          "state": {
            "_model_module": "@jupyter-widgets/base",
            "_model_module_version": "1.2.0",
            "_model_name": "LayoutModel",
            "_view_count": null,
            "_view_module": "@jupyter-widgets/base",
            "_view_module_version": "1.2.0",
            "_view_name": "LayoutView",
            "align_content": null,
            "align_items": null,
            "align_self": null,
            "border": null,
            "bottom": null,
            "display": null,
            "flex": null,
            "flex_flow": null,
            "grid_area": null,
            "grid_auto_columns": null,
            "grid_auto_flow": null,
            "grid_auto_rows": null,
            "grid_column": null,
            "grid_gap": null,
            "grid_row": null,
            "grid_template_areas": null,
            "grid_template_columns": null,
            "grid_template_rows": null,
            "height": null,
            "justify_content": null,
            "justify_items": null,
            "left": null,
            "margin": null,
            "max_height": null,
            "max_width": null,
            "min_height": null,
            "min_width": null,
            "object_fit": null,
            "object_position": null,
            "order": null,
            "overflow": null,
            "overflow_x": null,
            "overflow_y": null,
            "padding": null,
            "right": null,
            "top": null,
            "visibility": null,
            "width": null
          }
        },
        "902335a50ad94f5781d27ff1d2e5f3e2": {
          "model_module": "@jupyter-widgets/controls",
          "model_name": "DescriptionStyleModel",
          "model_module_version": "1.5.0",
          "state": {
            "_model_module": "@jupyter-widgets/controls",
            "_model_module_version": "1.5.0",
            "_model_name": "DescriptionStyleModel",
            "_view_count": null,
            "_view_module": "@jupyter-widgets/base",
            "_view_module_version": "1.2.0",
            "_view_name": "StyleView",
            "description_width": ""
          }
        },
        "e5fd9a1844eb4d3abfb9ab8b35b68055": {
          "model_module": "@jupyter-widgets/controls",
          "model_name": "HBoxModel",
          "model_module_version": "1.5.0",
          "state": {
            "_dom_classes": [],
            "_model_module": "@jupyter-widgets/controls",
            "_model_module_version": "1.5.0",
            "_model_name": "HBoxModel",
            "_view_count": null,
            "_view_module": "@jupyter-widgets/controls",
            "_view_module_version": "1.5.0",
            "_view_name": "HBoxView",
            "box_style": "",
            "children": [
              "IPY_MODEL_398aa29cd6b44ac6b8843aa09776329a",
              "IPY_MODEL_c0daa13ee2914e8eadbaa9f0668760b4",
              "IPY_MODEL_39aa319a95154fbc907447c28af5c00b"
            ],
            "layout": "IPY_MODEL_4973b622c19b4936bb881e63e412cdf6"
          }
        },
        "398aa29cd6b44ac6b8843aa09776329a": {
          "model_module": "@jupyter-widgets/controls",
          "model_name": "HTMLModel",
          "model_module_version": "1.5.0",
          "state": {
            "_dom_classes": [],
            "_model_module": "@jupyter-widgets/controls",
            "_model_module_version": "1.5.0",
            "_model_name": "HTMLModel",
            "_view_count": null,
            "_view_module": "@jupyter-widgets/controls",
            "_view_module_version": "1.5.0",
            "_view_name": "HTMLView",
            "description": "",
            "description_tooltip": null,
            "layout": "IPY_MODEL_b19fa7d4114741dba5e5de90705be7b3",
            "placeholder": "​",
            "style": "IPY_MODEL_fdd19b557c894645baf651943d87f9ab",
            "value": ""
          }
        },
        "c0daa13ee2914e8eadbaa9f0668760b4": {
          "model_module": "@jupyter-widgets/controls",
          "model_name": "FloatProgressModel",
          "model_module_version": "1.5.0",
          "state": {
            "_dom_classes": [],
            "_model_module": "@jupyter-widgets/controls",
            "_model_module_version": "1.5.0",
            "_model_name": "FloatProgressModel",
            "_view_count": null,
            "_view_module": "@jupyter-widgets/controls",
            "_view_module_version": "1.5.0",
            "_view_name": "ProgressView",
            "bar_style": "success",
            "description": "",
            "description_tooltip": null,
            "layout": "IPY_MODEL_e183753099a0487d8c9caebece47b37b",
            "max": 6579383,
            "min": 0,
            "orientation": "horizontal",
            "style": "IPY_MODEL_3f7e29faa58d4f89bae64fb4d1be0427",
            "value": 6579383
          }
        },
        "39aa319a95154fbc907447c28af5c00b": {
          "model_module": "@jupyter-widgets/controls",
          "model_name": "HTMLModel",
          "model_module_version": "1.5.0",
          "state": {
            "_dom_classes": [],
            "_model_module": "@jupyter-widgets/controls",
            "_model_module_version": "1.5.0",
            "_model_name": "HTMLModel",
            "_view_count": null,
            "_view_module": "@jupyter-widgets/controls",
            "_view_module_version": "1.5.0",
            "_view_name": "HTMLView",
            "description": "",
            "description_tooltip": null,
            "layout": "IPY_MODEL_250a48b63d0049709a177da192512395",
            "placeholder": "​",
            "style": "IPY_MODEL_f22fb76b0f5f4fbbbf282a49e4246ec1",
            "value": " 6580224/? [00:01&lt;00:00, 7366710.97it/s]"
          }
        },
        "4973b622c19b4936bb881e63e412cdf6": {
          "model_module": "@jupyter-widgets/base",
          "model_name": "LayoutModel",
          "model_module_version": "1.2.0",
          "state": {
            "_model_module": "@jupyter-widgets/base",
            "_model_module_version": "1.2.0",
            "_model_name": "LayoutModel",
            "_view_count": null,
            "_view_module": "@jupyter-widgets/base",
            "_view_module_version": "1.2.0",
            "_view_name": "LayoutView",
            "align_content": null,
            "align_items": null,
            "align_self": null,
            "border": null,
            "bottom": null,
            "display": null,
            "flex": null,
            "flex_flow": null,
            "grid_area": null,
            "grid_auto_columns": null,
            "grid_auto_flow": null,
            "grid_auto_rows": null,
            "grid_column": null,
            "grid_gap": null,
            "grid_row": null,
            "grid_template_areas": null,
            "grid_template_columns": null,
            "grid_template_rows": null,
            "height": null,
            "justify_content": null,
            "justify_items": null,
            "left": null,
            "margin": null,
            "max_height": null,
            "max_width": null,
            "min_height": null,
            "min_width": null,
            "object_fit": null,
            "object_position": null,
            "order": null,
            "overflow": null,
            "overflow_x": null,
            "overflow_y": null,
            "padding": null,
            "right": null,
            "top": null,
            "visibility": null,
            "width": null
          }
        },
        "b19fa7d4114741dba5e5de90705be7b3": {
          "model_module": "@jupyter-widgets/base",
          "model_name": "LayoutModel",
          "model_module_version": "1.2.0",
          "state": {
            "_model_module": "@jupyter-widgets/base",
            "_model_module_version": "1.2.0",
            "_model_name": "LayoutModel",
            "_view_count": null,
            "_view_module": "@jupyter-widgets/base",
            "_view_module_version": "1.2.0",
            "_view_name": "LayoutView",
            "align_content": null,
            "align_items": null,
            "align_self": null,
            "border": null,
            "bottom": null,
            "display": null,
            "flex": null,
            "flex_flow": null,
            "grid_area": null,
            "grid_auto_columns": null,
            "grid_auto_flow": null,
            "grid_auto_rows": null,
            "grid_column": null,
            "grid_gap": null,
            "grid_row": null,
            "grid_template_areas": null,
            "grid_template_columns": null,
            "grid_template_rows": null,
            "height": null,
            "justify_content": null,
            "justify_items": null,
            "left": null,
            "margin": null,
            "max_height": null,
            "max_width": null,
            "min_height": null,
            "min_width": null,
            "object_fit": null,
            "object_position": null,
            "order": null,
            "overflow": null,
            "overflow_x": null,
            "overflow_y": null,
            "padding": null,
            "right": null,
            "top": null,
            "visibility": null,
            "width": null
          }
        },
        "fdd19b557c894645baf651943d87f9ab": {
          "model_module": "@jupyter-widgets/controls",
          "model_name": "DescriptionStyleModel",
          "model_module_version": "1.5.0",
          "state": {
            "_model_module": "@jupyter-widgets/controls",
            "_model_module_version": "1.5.0",
            "_model_name": "DescriptionStyleModel",
            "_view_count": null,
            "_view_module": "@jupyter-widgets/base",
            "_view_module_version": "1.2.0",
            "_view_name": "StyleView",
            "description_width": ""
          }
        },
        "e183753099a0487d8c9caebece47b37b": {
          "model_module": "@jupyter-widgets/base",
          "model_name": "LayoutModel",
          "model_module_version": "1.2.0",
          "state": {
            "_model_module": "@jupyter-widgets/base",
            "_model_module_version": "1.2.0",
            "_model_name": "LayoutModel",
            "_view_count": null,
            "_view_module": "@jupyter-widgets/base",
            "_view_module_version": "1.2.0",
            "_view_name": "LayoutView",
            "align_content": null,
            "align_items": null,
            "align_self": null,
            "border": null,
            "bottom": null,
            "display": null,
            "flex": null,
            "flex_flow": null,
            "grid_area": null,
            "grid_auto_columns": null,
            "grid_auto_flow": null,
            "grid_auto_rows": null,
            "grid_column": null,
            "grid_gap": null,
            "grid_row": null,
            "grid_template_areas": null,
            "grid_template_columns": null,
            "grid_template_rows": null,
            "height": null,
            "justify_content": null,
            "justify_items": null,
            "left": null,
            "margin": null,
            "max_height": null,
            "max_width": null,
            "min_height": null,
            "min_width": null,
            "object_fit": null,
            "object_position": null,
            "order": null,
            "overflow": null,
            "overflow_x": null,
            "overflow_y": null,
            "padding": null,
            "right": null,
            "top": null,
            "visibility": null,
            "width": null
          }
        },
        "3f7e29faa58d4f89bae64fb4d1be0427": {
          "model_module": "@jupyter-widgets/controls",
          "model_name": "ProgressStyleModel",
          "model_module_version": "1.5.0",
          "state": {
            "_model_module": "@jupyter-widgets/controls",
            "_model_module_version": "1.5.0",
            "_model_name": "ProgressStyleModel",
            "_view_count": null,
            "_view_module": "@jupyter-widgets/base",
            "_view_module_version": "1.2.0",
            "_view_name": "StyleView",
            "bar_color": null,
            "description_width": ""
          }
        },
        "250a48b63d0049709a177da192512395": {
          "model_module": "@jupyter-widgets/base",
          "model_name": "LayoutModel",
          "model_module_version": "1.2.0",
          "state": {
            "_model_module": "@jupyter-widgets/base",
            "_model_module_version": "1.2.0",
            "_model_name": "LayoutModel",
            "_view_count": null,
            "_view_module": "@jupyter-widgets/base",
            "_view_module_version": "1.2.0",
            "_view_name": "LayoutView",
            "align_content": null,
            "align_items": null,
            "align_self": null,
            "border": null,
            "bottom": null,
            "display": null,
            "flex": null,
            "flex_flow": null,
            "grid_area": null,
            "grid_auto_columns": null,
            "grid_auto_flow": null,
            "grid_auto_rows": null,
            "grid_column": null,
            "grid_gap": null,
            "grid_row": null,
            "grid_template_areas": null,
            "grid_template_columns": null,
            "grid_template_rows": null,
            "height": null,
            "justify_content": null,
            "justify_items": null,
            "left": null,
            "margin": null,
            "max_height": null,
            "max_width": null,
            "min_height": null,
            "min_width": null,
            "object_fit": null,
            "object_position": null,
            "order": null,
            "overflow": null,
            "overflow_x": null,
            "overflow_y": null,
            "padding": null,
            "right": null,
            "top": null,
            "visibility": null,
            "width": null
          }
        },
        "f22fb76b0f5f4fbbbf282a49e4246ec1": {
          "model_module": "@jupyter-widgets/controls",
          "model_name": "DescriptionStyleModel",
          "model_module_version": "1.5.0",
          "state": {
            "_model_module": "@jupyter-widgets/controls",
            "_model_module_version": "1.5.0",
            "_model_name": "DescriptionStyleModel",
            "_view_count": null,
            "_view_module": "@jupyter-widgets/base",
            "_view_module_version": "1.2.0",
            "_view_name": "StyleView",
            "description_width": ""
          }
        }
      }
    }
  },
  "cells": [
    {
      "cell_type": "markdown",
      "source": [
        "# Optimal Transport for Domain Adaptation\n",
        "> How to adapt a CNN between different domains using Optimal Transport\n",
        "\n",
        "- toc: true \n",
        "- badges: true\n",
        "- comments: true\n",
        "- permalink: /:year/:month/:day/:title\n",
        "- categories: [Optimal Transport,Transfer Learning,Image Classification]"
      ],
      "metadata": {
        "id": "gU4YK2o1Swl9"
      }
    },
    {
      "cell_type": "markdown",
      "source": [
        "The idea of this blog post is to give a deeper idea on __how__ to perform Optimal Transport for Domain Adaptation. Throughout this tutorial, we will use the works of Courty et al. [1], who were the first authors to propose using Optimal Transport for adapting models in a unsupervised way.\n",
        "\n",
        "We do not give much details on how to perform Optimal Transport. We simply rely on the awesome library [Python Optimal Transport](https://pythonot.github.io/). For more information you can take a look on the textbook by Peyré and Cuturi [2]. In this tutorial, we explore how to adapt a Convolutional Neural Network for classifying slightly different digits."
      ],
      "metadata": {
        "id": "SnrzrfJ6Edbt"
      }
    },
    {
      "cell_type": "code",
      "execution_count": 1,
      "metadata": {
        "colab": {
          "base_uri": "https://localhost:8080/"
        },
        "id": "LMEa2EGRJe0y",
        "outputId": "994c2fce-eb65-470e-a013-059b326eac01"
      },
      "outputs": [
        {
          "output_type": "stream",
          "name": "stdout",
          "text": [
            "Collecting pot\n",
            "  Downloading POT-0.8.2-cp37-cp37m-manylinux_2_12_x86_64.manylinux2010_x86_64.whl (664 kB)\n",
            "\u001b[?25l\r\u001b[K     |▌                               | 10 kB 19.3 MB/s eta 0:00:01\r\u001b[K     |█                               | 20 kB 11.8 MB/s eta 0:00:01\r\u001b[K     |█▌                              | 30 kB 9.2 MB/s eta 0:00:01\r\u001b[K     |██                              | 40 kB 8.6 MB/s eta 0:00:01\r\u001b[K     |██▌                             | 51 kB 6.5 MB/s eta 0:00:01\r\u001b[K     |███                             | 61 kB 7.6 MB/s eta 0:00:01\r\u001b[K     |███▌                            | 71 kB 7.2 MB/s eta 0:00:01\r\u001b[K     |████                            | 81 kB 6.7 MB/s eta 0:00:01\r\u001b[K     |████▍                           | 92 kB 7.4 MB/s eta 0:00:01\r\u001b[K     |█████                           | 102 kB 7.7 MB/s eta 0:00:01\r\u001b[K     |█████▍                          | 112 kB 7.7 MB/s eta 0:00:01\r\u001b[K     |██████                          | 122 kB 7.7 MB/s eta 0:00:01\r\u001b[K     |██████▍                         | 133 kB 7.7 MB/s eta 0:00:01\r\u001b[K     |███████                         | 143 kB 7.7 MB/s eta 0:00:01\r\u001b[K     |███████▍                        | 153 kB 7.7 MB/s eta 0:00:01\r\u001b[K     |███████▉                        | 163 kB 7.7 MB/s eta 0:00:01\r\u001b[K     |████████▍                       | 174 kB 7.7 MB/s eta 0:00:01\r\u001b[K     |████████▉                       | 184 kB 7.7 MB/s eta 0:00:01\r\u001b[K     |█████████▍                      | 194 kB 7.7 MB/s eta 0:00:01\r\u001b[K     |█████████▉                      | 204 kB 7.7 MB/s eta 0:00:01\r\u001b[K     |██████████▍                     | 215 kB 7.7 MB/s eta 0:00:01\r\u001b[K     |██████████▉                     | 225 kB 7.7 MB/s eta 0:00:01\r\u001b[K     |███████████▍                    | 235 kB 7.7 MB/s eta 0:00:01\r\u001b[K     |███████████▉                    | 245 kB 7.7 MB/s eta 0:00:01\r\u001b[K     |████████████▎                   | 256 kB 7.7 MB/s eta 0:00:01\r\u001b[K     |████████████▉                   | 266 kB 7.7 MB/s eta 0:00:01\r\u001b[K     |█████████████▎                  | 276 kB 7.7 MB/s eta 0:00:01\r\u001b[K     |█████████████▉                  | 286 kB 7.7 MB/s eta 0:00:01\r\u001b[K     |██████████████▎                 | 296 kB 7.7 MB/s eta 0:00:01\r\u001b[K     |██████████████▉                 | 307 kB 7.7 MB/s eta 0:00:01\r\u001b[K     |███████████████▎                | 317 kB 7.7 MB/s eta 0:00:01\r\u001b[K     |███████████████▊                | 327 kB 7.7 MB/s eta 0:00:01\r\u001b[K     |████████████████▎               | 337 kB 7.7 MB/s eta 0:00:01\r\u001b[K     |████████████████▊               | 348 kB 7.7 MB/s eta 0:00:01\r\u001b[K     |█████████████████▎              | 358 kB 7.7 MB/s eta 0:00:01\r\u001b[K     |█████████████████▊              | 368 kB 7.7 MB/s eta 0:00:01\r\u001b[K     |██████████████████▎             | 378 kB 7.7 MB/s eta 0:00:01\r\u001b[K     |██████████████████▊             | 389 kB 7.7 MB/s eta 0:00:01\r\u001b[K     |███████████████████▏            | 399 kB 7.7 MB/s eta 0:00:01\r\u001b[K     |███████████████████▊            | 409 kB 7.7 MB/s eta 0:00:01\r\u001b[K     |████████████████████▏           | 419 kB 7.7 MB/s eta 0:00:01\r\u001b[K     |████████████████████▊           | 430 kB 7.7 MB/s eta 0:00:01\r\u001b[K     |█████████████████████▏          | 440 kB 7.7 MB/s eta 0:00:01\r\u001b[K     |█████████████████████▊          | 450 kB 7.7 MB/s eta 0:00:01\r\u001b[K     |██████████████████████▏         | 460 kB 7.7 MB/s eta 0:00:01\r\u001b[K     |██████████████████████▊         | 471 kB 7.7 MB/s eta 0:00:01\r\u001b[K     |███████████████████████▏        | 481 kB 7.7 MB/s eta 0:00:01\r\u001b[K     |███████████████████████▋        | 491 kB 7.7 MB/s eta 0:00:01\r\u001b[K     |████████████████████████▏       | 501 kB 7.7 MB/s eta 0:00:01\r\u001b[K     |████████████████████████▋       | 512 kB 7.7 MB/s eta 0:00:01\r\u001b[K     |█████████████████████████▏      | 522 kB 7.7 MB/s eta 0:00:01\r\u001b[K     |█████████████████████████▋      | 532 kB 7.7 MB/s eta 0:00:01\r\u001b[K     |██████████████████████████▏     | 542 kB 7.7 MB/s eta 0:00:01\r\u001b[K     |██████████████████████████▋     | 552 kB 7.7 MB/s eta 0:00:01\r\u001b[K     |███████████████████████████     | 563 kB 7.7 MB/s eta 0:00:01\r\u001b[K     |███████████████████████████▋    | 573 kB 7.7 MB/s eta 0:00:01\r\u001b[K     |████████████████████████████    | 583 kB 7.7 MB/s eta 0:00:01\r\u001b[K     |████████████████████████████▋   | 593 kB 7.7 MB/s eta 0:00:01\r\u001b[K     |█████████████████████████████   | 604 kB 7.7 MB/s eta 0:00:01\r\u001b[K     |█████████████████████████████▋  | 614 kB 7.7 MB/s eta 0:00:01\r\u001b[K     |██████████████████████████████  | 624 kB 7.7 MB/s eta 0:00:01\r\u001b[K     |██████████████████████████████▌ | 634 kB 7.7 MB/s eta 0:00:01\r\u001b[K     |███████████████████████████████ | 645 kB 7.7 MB/s eta 0:00:01\r\u001b[K     |███████████████████████████████▌| 655 kB 7.7 MB/s eta 0:00:01\r\u001b[K     |████████████████████████████████| 664 kB 7.7 MB/s \n",
            "\u001b[?25hRequirement already satisfied: scipy>=1.0 in /usr/local/lib/python3.7/dist-packages (from pot) (1.4.1)\n",
            "Requirement already satisfied: numpy>=1.16 in /usr/local/lib/python3.7/dist-packages (from pot) (1.21.6)\n",
            "Installing collected packages: pot\n",
            "Successfully installed pot-0.8.2\n",
            "Collecting torchinfo\n",
            "  Downloading torchinfo-1.6.5-py3-none-any.whl (21 kB)\n",
            "Installing collected packages: torchinfo\n",
            "Successfully installed torchinfo-1.6.5\n"
          ]
        }
      ],
      "source": [
        "#collapse_output\n",
        "!pip install pot\n",
        "!pip install torchinfo"
      ]
    },
    {
      "cell_type": "code",
      "source": [
        "import ot\n",
        "import numpy as np\n",
        "import matplotlib.pyplot as plt\n",
        "\n",
        "from tqdm import tqdm\n",
        "\n",
        "import torch\n",
        "\n",
        "from torchinfo import summary\n",
        "from torchvision import datasets\n",
        "from torchvision import transforms\n",
        "from torchvision.utils import make_grid\n",
        "\n",
        "from sklearn.metrics import accuracy_score\n",
        "from sklearn.neighbors import KNeighborsClassifier"
      ],
      "metadata": {
        "id": "B0-x8WY8J5qU"
      },
      "execution_count": 2,
      "outputs": []
    },
    {
      "cell_type": "code",
      "source": [
        "device = 'cpu'"
      ],
      "metadata": {
        "id": "Dyto4imBNKkL"
      },
      "execution_count": 3,
      "outputs": []
    },
    {
      "cell_type": "markdown",
      "source": [
        "## Loading the datasets\n",
        "\n",
        "For the transfer learning task, we will use MNIST [3] and USPS [4] datasets. These are very simillar datasets which consists on handwritten digits (in white) on a solid background (in black). Our goal is to adapt a model learned on MNIST to classify digits in USPS correctly.\n",
        "\n",
        "This adaptation problem has been extensively studied by the community (e.g. [5, 6]). Here we provide a show case that does not focuses on performance. We perform the following preprocessing steps to the digits:\n",
        "\n",
        "1. We convert each pixel from uint8 [0, 255] to float32 in [0, 1]. This is done by the ```transforms.ToTensor()``` call, as you can see below.\n",
        "2. We resize each image to $32 \\times 32$. Note that this introduces artifacts, especially in USPS digits which were $16 \\times 16$ originally.\n",
        "3. We replicate the image accross the 3 RGB channels\n",
        "\n",
        "This is the step-by-step of the transform composition shown below."
      ],
      "metadata": {
        "id": "biV5NigtKma8"
      }
    },
    {
      "cell_type": "code",
      "source": [
        "T = transforms.Compose([\n",
        "    transforms.ToTensor(),\n",
        "    transforms.Resize((32, 32))\n",
        "])"
      ],
      "metadata": {
        "id": "mc1L_vBHK4id"
      },
      "execution_count": 5,
      "outputs": []
    },
    {
      "cell_type": "markdown",
      "source": [
        "Once the preprocessing pipeline is constructed, we can create source and target dataloaders"
      ],
      "metadata": {
        "id": "rekP-SNbIU04"
      }
    },
    {
      "cell_type": "code",
      "source": [
        "#collapse_output\n",
        "src_dataset = datasets.MNIST(root='./.tmp', train=True, transform=T, download=True)\n",
        "src_loader = torch.utils.data.DataLoader(dataset=src_dataset, batch_size=256, shuffle=True)\n",
        "\n",
        "tgt_dataset = datasets.USPS(root='./.tmp', train=True, transform=T, download=True)\n",
        "tgt_loader = torch.utils.data.DataLoader(dataset=tgt_dataset, batch_size=256, shuffle=True)"
      ],
      "metadata": {
        "id": "G80lLoinKgwt",
        "colab": {
          "base_uri": "https://localhost:8080/",
          "height": 489,
          "referenced_widgets": [
            "4dfb1a12a4a645f3ae961540e9bb26d5",
            "1773399eb33546579a544a78f8842a45",
            "0b04bc4f70bb4c5f8796411a161847ac",
            "ef05ec569a304719b81c46db646866a5",
            "e6ddb2c36fa5446ea2556ac095b3fcce",
            "db270fd617f846e69f9897ff1f07520d",
            "7b21f8ccfb054d31b6aae9563ee959ab",
            "80944d8717a541df9be603380aa20a77",
            "d79fe34f97424f7cba476326a4153426",
            "7f7874c56e2049b8822ec0ee9cc7bea9",
            "68ee9c9438ce4c9b89c404fb6321236f",
            "f44828aa912a4c28be954b32a7b71e7b",
            "b1a2296e401c42cea2623d95ea3e732d",
            "696c8450dc314ba4ad6412952a63dc67",
            "bb211283dd564df08777b8610b7a40b8",
            "50cb83dd536b47ffbb8867631cdcfa4c",
            "7fe9a14fc6c14c8986d6fd8db440c69b",
            "acdc77d32760439c90d64eee1cc046eb",
            "c71b599be91f44a5aad423d25e8b4125",
            "b723c91fe33a4ce5afce2df4257cae50",
            "f6f6590536d34a99a6968acbc1a3bbb5",
            "afe820a1acfa41889500491d0a9f4e8b",
            "6aeb4e456c04418c932a56a21d3a7cc2",
            "94a77363b13742acaf59b9396263696c",
            "472e3695bc024012ba34fb82d07b6ded",
            "c903ee14a413427eb6fba7d2c607cc41",
            "f0ccd832fb804bdf9b02357b7cf55177",
            "b0881aa8546d49509f667a72d937211e",
            "cbbd024cec264d70a04e047da7654c89",
            "66efc0e72c2349e0808bde08277c2004",
            "2f9a7c8802d04482b474af2abb4db0fa",
            "8cb4917fb9924065b3ea8c9e392fba21",
            "dc6ac7976a93449fb667556b1185206c",
            "e9959a4a56bc4c8e8de9e6f8716d5117",
            "213da65c14c646bc89fa46eb59a238c9",
            "bdd94a9e2c6d4a2caea5daa050e76cb9",
            "a9b0eaac3bce483d978ba7d40b1e2405",
            "5bd7d3777a0a428bbbd0334a0321a1e9",
            "d46527f23390479c8dc9a01a709362f8",
            "03e0253505b4420cb2c1628a78880156",
            "fdf560842c77422992752a511fdfa420",
            "b52560a5e05e4b0fbbce02e0532eaaba",
            "3f55afabc7a64ddc93668a00d2fc3c19",
            "902335a50ad94f5781d27ff1d2e5f3e2",
            "e5fd9a1844eb4d3abfb9ab8b35b68055",
            "398aa29cd6b44ac6b8843aa09776329a",
            "c0daa13ee2914e8eadbaa9f0668760b4",
            "39aa319a95154fbc907447c28af5c00b",
            "4973b622c19b4936bb881e63e412cdf6",
            "b19fa7d4114741dba5e5de90705be7b3",
            "fdd19b557c894645baf651943d87f9ab",
            "e183753099a0487d8c9caebece47b37b",
            "3f7e29faa58d4f89bae64fb4d1be0427",
            "250a48b63d0049709a177da192512395",
            "f22fb76b0f5f4fbbbf282a49e4246ec1"
          ]
        },
        "outputId": "6aae26fa-5dfc-49ff-dc93-972867b68ae5"
      },
      "execution_count": 6,
      "outputs": [
        {
          "output_type": "stream",
          "name": "stdout",
          "text": [
            "Downloading http://yann.lecun.com/exdb/mnist/train-images-idx3-ubyte.gz\n",
            "Downloading http://yann.lecun.com/exdb/mnist/train-images-idx3-ubyte.gz to ./.tmp/MNIST/raw/train-images-idx3-ubyte.gz\n"
          ]
        },
        {
          "output_type": "display_data",
          "data": {
            "text/plain": [
              "  0%|          | 0/9912422 [00:00<?, ?it/s]"
            ],
            "application/vnd.jupyter.widget-view+json": {
              "version_major": 2,
              "version_minor": 0,
              "model_id": "4dfb1a12a4a645f3ae961540e9bb26d5"
            }
          },
          "metadata": {}
        },
        {
          "output_type": "stream",
          "name": "stdout",
          "text": [
            "Extracting ./.tmp/MNIST/raw/train-images-idx3-ubyte.gz to ./.tmp/MNIST/raw\n",
            "\n",
            "Downloading http://yann.lecun.com/exdb/mnist/train-labels-idx1-ubyte.gz\n",
            "Downloading http://yann.lecun.com/exdb/mnist/train-labels-idx1-ubyte.gz to ./.tmp/MNIST/raw/train-labels-idx1-ubyte.gz\n"
          ]
        },
        {
          "output_type": "display_data",
          "data": {
            "text/plain": [
              "  0%|          | 0/28881 [00:00<?, ?it/s]"
            ],
            "application/vnd.jupyter.widget-view+json": {
              "version_major": 2,
              "version_minor": 0,
              "model_id": "f44828aa912a4c28be954b32a7b71e7b"
            }
          },
          "metadata": {}
        },
        {
          "output_type": "stream",
          "name": "stdout",
          "text": [
            "Extracting ./.tmp/MNIST/raw/train-labels-idx1-ubyte.gz to ./.tmp/MNIST/raw\n",
            "\n",
            "Downloading http://yann.lecun.com/exdb/mnist/t10k-images-idx3-ubyte.gz\n",
            "Downloading http://yann.lecun.com/exdb/mnist/t10k-images-idx3-ubyte.gz to ./.tmp/MNIST/raw/t10k-images-idx3-ubyte.gz\n"
          ]
        },
        {
          "output_type": "display_data",
          "data": {
            "text/plain": [
              "  0%|          | 0/1648877 [00:00<?, ?it/s]"
            ],
            "application/vnd.jupyter.widget-view+json": {
              "version_major": 2,
              "version_minor": 0,
              "model_id": "6aeb4e456c04418c932a56a21d3a7cc2"
            }
          },
          "metadata": {}
        },
        {
          "output_type": "stream",
          "name": "stdout",
          "text": [
            "Extracting ./.tmp/MNIST/raw/t10k-images-idx3-ubyte.gz to ./.tmp/MNIST/raw\n",
            "\n",
            "Downloading http://yann.lecun.com/exdb/mnist/t10k-labels-idx1-ubyte.gz\n",
            "Downloading http://yann.lecun.com/exdb/mnist/t10k-labels-idx1-ubyte.gz to ./.tmp/MNIST/raw/t10k-labels-idx1-ubyte.gz\n"
          ]
        },
        {
          "output_type": "display_data",
          "data": {
            "text/plain": [
              "  0%|          | 0/4542 [00:00<?, ?it/s]"
            ],
            "application/vnd.jupyter.widget-view+json": {
              "version_major": 2,
              "version_minor": 0,
              "model_id": "e9959a4a56bc4c8e8de9e6f8716d5117"
            }
          },
          "metadata": {}
        },
        {
          "output_type": "stream",
          "name": "stdout",
          "text": [
            "Extracting ./.tmp/MNIST/raw/t10k-labels-idx1-ubyte.gz to ./.tmp/MNIST/raw\n",
            "\n",
            "Downloading https://www.csie.ntu.edu.tw/~cjlin/libsvmtools/datasets/multiclass/usps.bz2 to ./.tmp/usps.bz2\n"
          ]
        },
        {
          "output_type": "display_data",
          "data": {
            "text/plain": [
              "  0%|          | 0/6579383 [00:00<?, ?it/s]"
            ],
            "application/vnd.jupyter.widget-view+json": {
              "version_major": 2,
              "version_minor": 0,
              "model_id": "e5fd9a1844eb4d3abfb9ab8b35b68055"
            }
          },
          "metadata": {}
        }
      ]
    },
    {
      "cell_type": "markdown",
      "source": [
        "We can see a few samples from both datasets by iterating through the dataloaders"
      ],
      "metadata": {
        "id": "GGYV6TVBIZry"
      }
    },
    {
      "cell_type": "code",
      "source": [
        "for xs, ys in src_loader: break\n",
        "for xt, yt in tgt_loader: break"
      ],
      "metadata": {
        "id": "BiwpxUftLSAE"
      },
      "execution_count": 7,
      "outputs": []
    },
    {
      "cell_type": "code",
      "source": [
        "fig, axes = plt.subplots(1, 2, figsize=(10, 5))\n",
        "\n",
        "ind = np.random.choice(np.arange(len(xs)), size=64)\n",
        "samples = xs[ind]\n",
        "grid = make_grid(samples).numpy().transpose([1, 2, 0])\n",
        "print('Source Labels: {}'.format(ys[ind].reshape(8, 8)))\n",
        "\n",
        "axes[0].set_title('Source Domain Samples')\n",
        "axes[0].imshow(grid)\n",
        "axes[0].axis('off')\n",
        "\n",
        "ind = np.random.choice(np.arange(len(xs)), size=64)\n",
        "samples = xt[ind]\n",
        "grid = make_grid(samples).numpy().transpose([1, 2, 0])\n",
        "print('Target Labels: {}'.format(yt[ind].reshape(8, 8)))\n",
        "\n",
        "axes[1].set_title('Target Domain Samples')\n",
        "axes[1].imshow(grid)\n",
        "axes[1].axis('off')"
      ],
      "metadata": {
        "colab": {
          "base_uri": "https://localhost:8080/",
          "height": 613
        },
        "id": "qrx7YfTRLpqs",
        "outputId": "fb976081-f163-4630-e7d2-8bb72d435656"
      },
      "execution_count": 8,
      "outputs": [
        {
          "output_type": "stream",
          "name": "stdout",
          "text": [
            "Source Labels: tensor([[8, 6, 6, 2, 5, 7, 9, 2],\n",
            "        [3, 1, 2, 8, 6, 3, 9, 1],\n",
            "        [6, 9, 8, 1, 7, 7, 2, 4],\n",
            "        [8, 9, 4, 5, 3, 6, 6, 1],\n",
            "        [1, 9, 1, 9, 0, 0, 8, 9],\n",
            "        [7, 2, 2, 9, 4, 2, 3, 6],\n",
            "        [3, 0, 4, 6, 4, 4, 2, 4],\n",
            "        [4, 7, 0, 4, 9, 4, 0, 6]])\n",
            "Target Labels: tensor([[9, 0, 0, 0, 1, 1, 1, 9],\n",
            "        [5, 7, 5, 7, 2, 4, 1, 9],\n",
            "        [0, 3, 2, 9, 3, 0, 4, 8],\n",
            "        [2, 0, 2, 7, 0, 1, 6, 3],\n",
            "        [1, 2, 2, 5, 9, 3, 3, 0],\n",
            "        [9, 4, 4, 8, 1, 2, 3, 0],\n",
            "        [0, 0, 1, 7, 6, 3, 2, 0],\n",
            "        [6, 7, 6, 9, 8, 1, 4, 8]])\n"
          ]
        },
        {
          "output_type": "execute_result",
          "data": {
            "text/plain": [
              "(-0.5, 273.5, 273.5, -0.5)"
            ]
          },
          "metadata": {},
          "execution_count": 8
        },
        {
          "output_type": "display_data",
          "data": {
            "text/plain": [
              "<Figure size 720x360 with 2 Axes>"
            ],
            "image/png": "[encoded data removed]"
          },
          "metadata": {
            "needs_background": "light"
          }
        }
      ]
    },
    {
      "cell_type": "markdown",
      "source": [
        "Note that even though much simillar, the source and target datasets are quite different. Especially, MNIST digits are centered on the grid $32 \\times 32$, while USPS digits tend to occupy the whole grid. As it turns out this is quite important for the CNN, despite not interfering with human recognition.\n",
        "\n",
        "This is an example of the known covariate shift phenomenon, which corresponds to when $P_{S}(X) \\neq P_{T}(X)$. In other words, the marginal feature distribution changes accross domains. This happens when the statistical properties of the data change.\n",
        "\n",
        "In what follows, we will,\n",
        "\n",
        "* Load a CNN feature extractor and train it on MNIST\n",
        "* Measure its performance on USPS\n",
        "* Use Optimal Transport to enhance the performance on USPS."
      ],
      "metadata": {
        "id": "Ef7OzmniIexs"
      }
    },
    {
      "cell_type": "markdown",
      "source": [
        "## Loading a pretrained a Feature Extractor\n",
        "\n",
        "Here we use the classical architecture LeNet5 [6], especifically designed for classifying MNIST digits. Here you can see its overall description.\n",
        "\n",
        "![](https://www.datasciencecentral.com/wp-content/uploads/2021/10/1lvvWF48t7cyRWqct13eU0w.jpeg)\n",
        "\n",
        "We code this network architecture using Pytorch's [Module API](https://pytorch.org/docs/stable/generated/torch.nn.Module.html)."
      ],
      "metadata": {
        "id": "ttI1r0MqMtgL"
      }
    },
    {
      "cell_type": "code",
      "source": [
        "class LeNet5(torch.nn.Module):\n",
        "    def __init__(self, n_channels=3):\n",
        "        self.n_channels = n_channels\n",
        "        super(LeNet5, self).__init__()\n",
        "\n",
        "        self.feature_extractor = torch.nn.Sequential(\n",
        "            torch.nn.Conv2d(in_channels=n_channels, out_channels=6, kernel_size=5),\n",
        "            torch.nn.ReLU(),\n",
        "            torch.nn.MaxPool2d(stride=2, kernel_size=2),\n",
        "            torch.nn.Conv2d(in_channels=6, out_channels=16, kernel_size=5),\n",
        "            torch.nn.ReLU(),\n",
        "            torch.nn.MaxPool2d(stride=2, kernel_size=2)\n",
        "        )\n",
        "\n",
        "        self.class_discriminator = torch.nn.Sequential(\n",
        "            torch.nn.Linear(in_features=16 * 5 * 5, out_features=120),\n",
        "            torch.nn.ReLU(),\n",
        "            torch.nn.Linear(in_features=120, out_features=84),\n",
        "            torch.nn.ReLU(),\n",
        "            torch.nn.Linear(in_features=84, out_features=10),\n",
        "            torch.nn.Softmax(dim=1)\n",
        "        )\n",
        "\n",
        "    def forward(self, x):\n",
        "        y = self.feature_extractor(x)\n",
        "        h = y.view(-1, 16 * 5 * 5)\n",
        "        features = self.class_discriminator[:-2](h)\n",
        "        predicted_labels = self.class_discriminator(h)\n",
        "\n",
        "        return features, predicted_labels"
      ],
      "metadata": {
        "id": "9kFgeN5gAfHs"
      },
      "execution_count": 45,
      "outputs": []
    },
    {
      "cell_type": "markdown",
      "source": [
        "note that our neural network architecture is now a class. To start using the model, we need to instantiate it into an object,"
      ],
      "metadata": {
        "id": "auD7LPSXTLcL"
      }
    },
    {
      "cell_type": "code",
      "source": [
        "model = LeNet5(n_channels=1)"
      ],
      "metadata": {
        "id": "x4RJnnOUKCa0"
      },
      "execution_count": 46,
      "outputs": []
    },
    {
      "cell_type": "markdown",
      "source": [
        "To further understand the architecture of LeNet5, we use [torchinfo](https://github.com/TylerYep/torchinfo), which further shows the number of parameters in the network."
      ],
      "metadata": {
        "id": "FXJ3Fay2TepM"
      }
    },
    {
      "cell_type": "code",
      "source": [
        "summary(model, input_size=(100, 1, 32, 32))"
      ],
      "metadata": {
        "colab": {
          "base_uri": "https://localhost:8080/"
        },
        "id": "yxq1AHi6LJ8r",
        "outputId": "977c368e-1bdb-4fac-91d4-80b890f2977d"
      },
      "execution_count": 47,
      "outputs": [
        {
          "output_type": "execute_result",
          "data": {
            "text/plain": [
              "==========================================================================================\n",
              "Layer (type:depth-idx)                   Output Shape              Param #\n",
              "==========================================================================================\n",
              "LeNet5                                   --                        --\n",
              "├─Sequential: 1-1                        [100, 16, 5, 5]           --\n",
              "│    └─Conv2d: 2-1                       [100, 6, 28, 28]          156\n",
              "│    └─ReLU: 2-2                         [100, 6, 28, 28]          --\n",
              "│    └─MaxPool2d: 2-3                    [100, 6, 14, 14]          --\n",
              "│    └─Conv2d: 2-4                       [100, 16, 10, 10]         2,416\n",
              "│    └─ReLU: 2-5                         [100, 16, 10, 10]         --\n",
              "│    └─MaxPool2d: 2-6                    [100, 16, 5, 5]           --\n",
              "├─Sequential: 1                          --                        --\n",
              "│    └─Linear: 2-7                       [100, 120]                48,120\n",
              "│    └─ReLU: 2-8                         [100, 120]                --\n",
              "│    └─Linear: 2-9                       [100, 84]                 10,164\n",
              "│    └─ReLU: 2-10                        [100, 84]                 --\n",
              "├─Sequential: 1-2                        [100, 10]                 --\n",
              "│    └─Linear: 2-11                      [100, 120]                (recursive)\n",
              "│    └─ReLU: 2-12                        [100, 120]                --\n",
              "│    └─Linear: 2-13                      [100, 84]                 (recursive)\n",
              "│    └─ReLU: 2-14                        [100, 84]                 --\n",
              "│    └─Linear: 2-15                      [100, 10]                 850\n",
              "│    └─Softmax: 2-16                     [100, 10]                 --\n",
              "==========================================================================================\n",
              "Total params: 61,706\n",
              "Trainable params: 61,706\n",
              "Non-trainable params: 0\n",
              "Total mult-adds (M): 48.13\n",
              "==========================================================================================\n",
              "Input size (MB): 0.41\n",
              "Forward/backward pass size (MB): 5.21\n",
              "Params size (MB): 0.25\n",
              "Estimated Total Size (MB): 5.87\n",
              "=========================================================================================="
            ]
          },
          "metadata": {},
          "execution_count": 47
        }
      ]
    },
    {
      "cell_type": "markdown",
      "source": [
        "Training the model consists on minimizing the Cross Entropy between the ground truth class vector (i.e. to which digit an image corresponds) and the predictions. This loss function is given by,\n",
        "\n",
        "$$\n",
        "\\mathcal{L}(y, \\hat{y}) = -\\dfrac{1}{n}\\sum_{i=1}^{n}\\sum_{j=1}^{K}y_{ij}\\log \\hat{y}_{ij}\n",
        "$$\n",
        "\n",
        "where $n=256$ is the number of samples in the minibatch and $K$ is the number of classes in our problem. An important remark must be done here. During training we assume that labels come in an one hot encoding format. This means that each categorical value (i.e. 1, ..., 10) is transformed in a 10-dimensional vector, with 1 on the respective position of its class.\n",
        "\n",
        "Therefore, the ground-truth $y$ is now a matrix $y \\in \\mathbb{R}^{n \\times K}$, as well as the predictions $\\hat{y}$. Each vector $\\hat{y}_{i}$ contains the network's predictions for the $i$-th sample, which is a softmax/probability distribution over classes."
      ],
      "metadata": {
        "id": "dAvrFK42KFCb"
      }
    },
    {
      "cell_type": "code",
      "source": [
        "criterion = torch.nn.CrossEntropyLoss()\n",
        "optimizer = torch.optim.Adam(model.parameters(), lr=1e-3)"
      ],
      "metadata": {
        "id": "q04L1IFEKHLL"
      },
      "execution_count": 48,
      "outputs": []
    },
    {
      "cell_type": "code",
      "source": [
        "# Training loop\n",
        "last_loss = 0\n",
        "for it in range(10):\n",
        "    accs, losses = [], []\n",
        "    pbar = tqdm(src_loader)\n",
        "    for x, y in pbar:\n",
        "        optimizer.zero_grad()\n",
        "\n",
        "        # Get data and pushes into device\n",
        "        x, y = x.to(device), y.to(device)\n",
        "        y = torch.nn.functional.one_hot(y, num_classes=10).float()\n",
        "\n",
        "        # Forward pass\n",
        "        _, yhat = model(x)\n",
        "\n",
        "        # Evaluate loss\n",
        "        loss = criterion(yhat, y)\n",
        "\n",
        "        # Backward pass\n",
        "        loss.backward()\n",
        "\n",
        "        # Optimization step\n",
        "        optimizer.step()\n",
        "\n",
        "        # Append losses to list\n",
        "        it_loss = loss.cpu().item()\n",
        "        losses.append(it_loss)\n",
        "\n",
        "        # Append accs to list\n",
        "        it_acc = accuracy_score(y.detach().argmax(dim=1).cpu().numpy(),\n",
        "                                yhat.detach().argmax(dim=1).cpu().numpy())\n",
        "        accs.append(it_acc)\n",
        "        pbar.set_description('Loss: {}, Acc: {}'.format(it_loss, it_acc))\n",
        "    loss = np.mean(losses)\n",
        "    acc = np.mean(accs)\n",
        "    δloss = abs(loss - last_loss)\n",
        "    print('It {}/{}, loss: {}, acc: {}, δloss: {}'.format(it + 1, 10, loss, acc, δloss))\n",
        "    last_loss = loss"
      ],
      "metadata": {
        "colab": {
          "base_uri": "https://localhost:8080/"
        },
        "id": "OQOfzfepKJxD",
        "outputId": "c4b5da78-0ad1-4eb8-86c7-f741533a3995"
      },
      "execution_count": 49,
      "outputs": [
        {
          "output_type": "stream",
          "name": "stderr",
          "text": [
            "Loss: 1.524747371673584, Acc: 0.9479166666666666: 100%|██████████| 235/235 [00:28<00:00,  8.21it/s]\n"
          ]
        },
        {
          "output_type": "stream",
          "name": "stdout",
          "text": [
            "It 1/10, loss: 1.7222665279469591, acc: 0.75348515070922, δloss: 1.7222665279469591\n"
          ]
        },
        {
          "output_type": "stream",
          "name": "stderr",
          "text": [
            "Loss: 1.56523859500885, Acc: 0.875: 100%|██████████| 235/235 [00:24<00:00,  9.76it/s]\n"
          ]
        },
        {
          "output_type": "stream",
          "name": "stdout",
          "text": [
            "It 2/10, loss: 1.533622589517147, acc: 0.9313829787234043, δloss: 0.1886439384298122\n"
          ]
        },
        {
          "output_type": "stream",
          "name": "stderr",
          "text": [
            "Loss: 1.5207856893539429, Acc: 0.9375: 100%|██████████| 235/235 [00:23<00:00,  9.81it/s]\n"
          ]
        },
        {
          "output_type": "stream",
          "name": "stdout",
          "text": [
            "It 3/10, loss: 1.5086321825676776, acc: 0.9556515957446808, δloss: 0.0249904069494693\n"
          ]
        },
        {
          "output_type": "stream",
          "name": "stderr",
          "text": [
            "Loss: 1.4832005500793457, Acc: 0.9791666666666666: 100%|██████████| 235/235 [00:24<00:00,  9.65it/s]\n"
          ]
        },
        {
          "output_type": "stream",
          "name": "stdout",
          "text": [
            "It 4/10, loss: 1.4972100871674558, acc: 0.9657358156028369, δloss: 0.011422095400221766\n"
          ]
        },
        {
          "output_type": "stream",
          "name": "stderr",
          "text": [
            "Loss: 1.4630451202392578, Acc: 1.0: 100%|██████████| 235/235 [00:24<00:00,  9.44it/s]\n"
          ]
        },
        {
          "output_type": "stream",
          "name": "stdout",
          "text": [
            "It 5/10, loss: 1.4906726801649053, acc: 0.9717918882978723, δloss: 0.006537407002550566\n"
          ]
        },
        {
          "output_type": "stream",
          "name": "stderr",
          "text": [
            "Loss: 1.4850155115127563, Acc: 0.9791666666666666: 100%|██████████| 235/235 [00:24<00:00,  9.73it/s]\n"
          ]
        },
        {
          "output_type": "stream",
          "name": "stdout",
          "text": [
            "It 6/10, loss: 1.487435332257697, acc: 0.9749445921985816, δloss: 0.00323734790720831\n"
          ]
        },
        {
          "output_type": "stream",
          "name": "stderr",
          "text": [
            "Loss: 1.4866124391555786, Acc: 0.96875: 100%|██████████| 235/235 [00:24<00:00,  9.74it/s]\n"
          ]
        },
        {
          "output_type": "stream",
          "name": "stdout",
          "text": [
            "It 7/10, loss: 1.4847782921283803, acc: 0.9772606382978724, δloss: 0.002657040129316668\n"
          ]
        },
        {
          "output_type": "stream",
          "name": "stderr",
          "text": [
            "Loss: 1.4855841398239136, Acc: 0.9791666666666666: 100%|██████████| 235/235 [00:24<00:00,  9.71it/s]\n"
          ]
        },
        {
          "output_type": "stream",
          "name": "stdout",
          "text": [
            "It 8/10, loss: 1.482060980796814, acc: 0.980114140070922, δloss: 0.0027173113315663855\n"
          ]
        },
        {
          "output_type": "stream",
          "name": "stderr",
          "text": [
            "Loss: 1.4614702463150024, Acc: 1.0: 100%|██████████| 235/235 [00:24<00:00,  9.44it/s]\n"
          ]
        },
        {
          "output_type": "stream",
          "name": "stdout",
          "text": [
            "It 9/10, loss: 1.4801266025989614, acc: 0.9816489361702128, δloss: 0.001934378197852471\n"
          ]
        },
        {
          "output_type": "stream",
          "name": "stderr",
          "text": [
            "Loss: 1.4897629022598267, Acc: 0.9791666666666666: 100%|██████████| 235/235 [00:24<00:00,  9.69it/s]"
          ]
        },
        {
          "output_type": "stream",
          "name": "stdout",
          "text": [
            "It 10/10, loss: 1.4783393408389802, acc: 0.9836546985815604, δloss: 0.001787261759981229\n"
          ]
        },
        {
          "output_type": "stream",
          "name": "stderr",
          "text": [
            "\n"
          ]
        }
      ]
    },
    {
      "cell_type": "markdown",
      "source": [
        "### Measuring the Model Performance\n",
        "\n",
        "A standard case in domain adaptation is the naive approach: we do not try to adapt the model. This corresponds to applying the classifier to a dataset that follows a different probability distribution -- and hence may not work as well as the source dataset on which the classifier was trained. This is known in the literature as the __baseline__.\n",
        "\n",
        "Here we proceed as in [1], and evaluate the baseline with a 1-NN classifier on the features extracted by the CNN. Our first step is to construct a matrix $H_{S} \\in \\mathbb{R}^{n_{S}\\times 84}$, which serves as the training data for the 1-NN. We do so by defining\n",
        "\n",
        "$$h_{S}^{i} = \\phi(x_{S}^{i})$$\n",
        "\n",
        "where $\\phi$ is the convolutional feature extractor."
      ],
      "metadata": {
        "id": "KVQZ1cc1armq"
      }
    },
    {
      "cell_type": "code",
      "source": [
        "Hs, Ys = [], []\n",
        "for xs, ys in tqdm(src_loader):\n",
        "    with torch.no_grad():\n",
        "        hs, _ = model(xs)\n",
        "        Hs.append(hs)\n",
        "    Ys.append(ys)\n",
        "Hs = torch.cat(Hs, dim=0)\n",
        "Ys = torch.cat(Ys)"
      ],
      "metadata": {
        "colab": {
          "base_uri": "https://localhost:8080/"
        },
        "id": "ZIkufXeratXz",
        "outputId": "74489ed8-4f1c-4597-ff53-af20d2027617"
      },
      "execution_count": 50,
      "outputs": [
        {
          "output_type": "stream",
          "name": "stderr",
          "text": [
            "100%|██████████| 235/235 [00:15<00:00, 15.10it/s]\n"
          ]
        }
      ]
    },
    {
      "cell_type": "markdown",
      "source": [
        "We perform a similar operation on the target domain"
      ],
      "metadata": {
        "id": "8tPsHTMITj4y"
      }
    },
    {
      "cell_type": "code",
      "source": [
        "Ht, Yt = [], []\n",
        "for xt, yt in tqdm(tgt_loader):\n",
        "    with torch.no_grad():\n",
        "        ht, _ = model(xt)\n",
        "        Ht.append(ht)\n",
        "    Yt.append(yt)\n",
        "Ht = torch.cat(Ht, dim=0)\n",
        "Yt = torch.cat(Yt)"
      ],
      "metadata": {
        "colab": {
          "base_uri": "https://localhost:8080/"
        },
        "id": "QhNbYvzta7OU",
        "outputId": "c752188f-b7d7-4c0c-bbfa-3d5a7764488e"
      },
      "execution_count": 51,
      "outputs": [
        {
          "output_type": "stream",
          "name": "stderr",
          "text": [
            "100%|██████████| 29/29 [00:01<00:00, 15.71it/s]\n"
          ]
        }
      ]
    },
    {
      "cell_type": "markdown",
      "source": [
        "Finally, the 1-NN procedure consists on calculating the pairwise distances between source and target domain data. This is done through the function [cdist](https://pytorch.org/docs/stable/generated/torch.cdist.html) of Pytorch."
      ],
      "metadata": {
        "id": "O2JgMOavTn0C"
      }
    },
    {
      "cell_type": "code",
      "source": [
        "C = torch.cdist(Hs, Ht, 2) ** 2\n",
        "ind_opt = C.argmin(dim=0)\n",
        "del C"
      ],
      "metadata": {
        "id": "8PnkdGL5tFSF"
      },
      "execution_count": 52,
      "outputs": []
    },
    {
      "cell_type": "code",
      "source": [
        "Yp = Ys[ind_opt]"
      ],
      "metadata": {
        "id": "uNoBE516bdcE"
      },
      "execution_count": 53,
      "outputs": []
    },
    {
      "cell_type": "code",
      "source": [
        "print(accuracy_score(Yt, Yp))"
      ],
      "metadata": {
        "colab": {
          "base_uri": "https://localhost:8080/"
        },
        "id": "rZ6Exlg-gB8N",
        "outputId": "78b97b2a-730e-481d-d02e-9d584ebaff77"
      },
      "execution_count": 54,
      "outputs": [
        {
          "output_type": "stream",
          "name": "stdout",
          "text": [
            "0.7151282402962557\n"
          ]
        }
      ]
    },
    {
      "cell_type": "markdown",
      "source": [
        "This will serve as a baseline for the performance of domain adaptation. In this case, a succesfull adaptation implies on an accuracy higher than 71.51%"
      ],
      "metadata": {
        "id": "EWDgkK5nTyAC"
      }
    },
    {
      "cell_type": "markdown",
      "source": [
        "## Optimal Transport"
      ],
      "metadata": {
        "id": "KjQcLMCxPgWc"
      }
    },
    {
      "cell_type": "markdown",
      "source": [
        "### Background\n",
        "\n",
        "Optimal Transport (OT) [7] is a mathematical theory concerned with mass displacement at least effort. The field was founded by the French mathematician [Gaspard Monge](https://en.wikipedia.org/wiki/Gaspard_Monge), and recast in the 20-th century in terms of linear programming, by nobel prize [Leonid Kantorovich](https://en.wikipedia.org/wiki/Leonid_Kantorovich).\n",
        "\n",
        "But, what makes OT interesting for ML, and more specifically Transfer Learning? Well, one can understand probability distributions as distributions of mass. This way, OT serve as a framework for __manipulating probability distributions__. This is of key importance in many fields of ML (e.g. Generative Modeling), especially transfer learning.\n",
        "\n",
        "To set up the OT problem, let us consider hypothetical, unknown probability distributions $P_{S}(X)$ and $P_{T}(X)$ from which source and target features are drawn from. These can be approximated __empirically__ from samples,\n",
        "$$\\hat{P}_{S}(x) = \\dfrac{1}{n_{S}}\\sum_{i=1}^{n_{S}}\\delta(\\mathbf{x}-\\mathbf{x}_{S}^{i}),$$\n",
        "where $\\delta$ is the [Dirac delta function](https://en.wikipedia.org/wiki/Dirac_delta_function). For data matrices $\\mathbf{X}_{S}\\in\\mathbb{R}^{n_{S}\\times d}$ and $\\mathbf{X}_{T} \\in \\mathbb{R}^{n_{T}\\times d}$, the OT problem revolves around findng a transportation plan $\\pi \\in \\mathbb{R}^{n_{S}\\times n_{T}}$, that specieis __how much mass is transported__ between samples $\\mathbf{x}_{S}^{i}$ and $\\mathbf{x}_{T}^{j}$. As such, $\\pi$ should __conserve mass__, that is, it should not create nor distruct mass through transportation. This amounts to imposing,\n",
        "$$\n",
        "\\sum_{i=1}^{n_{S}}\\pi_{ij} = \\dfrac{1}{n_{T}}\\text{ and }\\sum_{j=1}^{n_{T}}\\pi_{ij} = \\dfrac{1}{n_{S}}.\n",
        "$$\n",
        "\n",
        "These are linear constraints imposed on $\\pi_{ij}$. If we further define a cost of transportation $c(\\cdot,\\cdot)$ between $\\mathbf{x}_{S}^{i}$ and $\\mathbf{x}_{T}^{j}$, we can define an objective function that corresponds to the total effort $E(\\pi)$,\n",
        "\n",
        "$$E(\\pi) = \\sum_{i=1}^{n_{S}}\\sum_{j=1}^{n_{T}}\\pi_{ij}c(\\mathbf{x}_{S}^{i},\\mathbf{x}_{T}^{j})$$\n",
        "\n",
        "The OT problem is thus a __linear program__, which means that its cost and constraints are linear with respect to the variables $\\pi_{ij}$. This is, nonetheless, a large-scale problem, as the number of variables scales with the number of samples. In the era of Deep Learning, this is a huge constraint as the number of samples in datasets is remarkably huge. We will get back to this matter in a bit.\n",
        "\n"
      ],
      "metadata": {
        "id": "tQG3iBC1Ph8T"
      }
    },
    {
      "cell_type": "markdown",
      "source": [
        "### Entropic Regularization\n",
        "\n",
        "Instead of using linear programming for solving OT, we follow [8] and calculate an efficient approximation of $\\pi$ by introducing an entropic regularization term to $E$. This consists on changing the objective function to,\n",
        "\n",
        "$$E(\\pi) = \\sum_{i=1}^{n_{S}}\\sum_{j=1}^{n_{T}}\\pi_{ij}c(\\mathbf{x}_{S}^{i},\\mathbf{x}_{T}^{j}) + \\epsilon\\sum_{i=1}^{n_{S}}\\sum_{j=1}^{n_{T}}\\pi_{ij}\\log\\pi_{ij}$$\n",
        "\n",
        "In practice, this has two effects: (i) it smoothes the linear programming problem, leading to a smooth $\\pi$. (ii) it allows for a faster calculation based on matrix-scaling algorithms. These 2 factors often lead to better adaptation results."
      ],
      "metadata": {
        "id": "A9sxQl_BVtwj"
      }
    },
    {
      "cell_type": "markdown",
      "source": [
        "### Optimal Transport for Domain Adaptation\n",
        "\n",
        "Even though $\\pi$ is informative about source and target distributions, it does not tells us __how to map__ different samples. This is solved by introducing the concept of __barycentric mapping__, which is defined as,\n",
        "\n",
        "$$T_{\\pi}(\\mathbf{x}_{S}^{i}) = \\underset{\\mathbf{x}\\in\\mathbb{R}^{d}}{\\text{argmin}}\\sum_{j=1}^{n_{T}}\\pi_{ij}c(\\mathbf{x},\\mathbf{x}_{T}^{j}).$$\n",
        "\n",
        "When $c(\\mathbf{x}_{S}^{i},\\mathbf{x}_{T}^{j}) = \\lVert \\mathbf{x}_{S}^{i} - \\mathbf{x}_{T}^{j} \\rVert_{2}^{2}$, this problem has __closed form solution__,\n",
        "\n",
        "$$T_{\\pi}(\\mathbf{X}_{S}) = n_{S}\\pi\\mathbf{X}_{T}$$\n",
        "\n",
        "however, note that $T_{\\pi}$ is only defined for the source domain samples it has been defined on. For our particular dataset, this would amount to calculating an OT plan of size $60000 \\times 7291$, which can be done, but would take an enormous amount of time and storage.\n",
        "\n",
        "A workaround was introduced by [9], which consists on downsampling the datasets (to a sub-set of representative points), fitting the map $T_{\\pi}$ on this sub-sample, then interpolating $T_{\\pi}$ on novel samples,\n",
        "\n",
        "$$T_{\\pi}(\\mathbf{x}) = T_{\\pi}(\\mathbf{x}_{S}^{i_{\\star}}) + \\mathbf{x} - \\mathbf{x}_{S}^{i_{\\star}}$$\n",
        "\n",
        "where $1 \\leq i_{\\star} \\leq n_{S}$ is the index of the nearest neighbor $\\mathbf{x}$ in the data matrix $\\mathbf{X}_{S}$."
      ],
      "metadata": {
        "id": "eE6SrI8NPjWL"
      }
    },
    {
      "cell_type": "markdown",
      "source": [
        "### Extracting data\n",
        "\n",
        "As mentioned previously, we cannot fit OT to the entire dataset. We thus extract a sub-sample from the original datasets in order to have a feasible $T_{\\pi}$. As follows, we extract 10 batches from the source and target datasets."
      ],
      "metadata": {
        "id": "BY3_Vn2DTTJc"
      }
    },
    {
      "cell_type": "code",
      "source": [
        "_Hs, _Ys = [], []\n",
        "k = 0\n",
        "for xs, ys in src_loader:\n",
        "    with torch.no_grad():\n",
        "        hs, _ = model(xs)\n",
        "        _Hs.append(hs)\n",
        "        _Ys.append(ys)\n",
        "    k += 1\n",
        "    if k == 10: break\n",
        "_Hs = torch.cat(_Hs, dim=0).numpy()\n",
        "_Ys = torch.cat(_Ys, dim=0).numpy()"
      ],
      "metadata": {
        "id": "GDNJIS7Ips0L"
      },
      "execution_count": 65,
      "outputs": []
    },
    {
      "cell_type": "code",
      "source": [
        "_Ht, _Yt = [], []\n",
        "k = 0\n",
        "for xt, yt in tgt_loader:\n",
        "    with torch.no_grad():\n",
        "        ht, _ = model(xt)\n",
        "        _Ht.append(ht)\n",
        "        _Yt.append(yt)\n",
        "    k += 1\n",
        "    if k == 10: break\n",
        "_Ht = torch.cat(_Ht, dim=0).numpy()\n",
        "_Yt = torch.cat(_Yt, dim=0).numpy()"
      ],
      "metadata": {
        "id": "LRwUZ0MwpymN"
      },
      "execution_count": 66,
      "outputs": []
    },
    {
      "cell_type": "code",
      "source": [
        "_Hs.shape, _Ht.shape, _Ys.shape, _Yt.shape"
      ],
      "metadata": {
        "colab": {
          "base_uri": "https://localhost:8080/"
        },
        "id": "8pUbC3PYvz6s",
        "outputId": "5231ef0d-d71a-477d-fedd-a40934d59b92"
      },
      "execution_count": 67,
      "outputs": [
        {
          "output_type": "execute_result",
          "data": {
            "text/plain": [
              "((2560, 84), (2560, 84), (2560,), (2560,))"
            ]
          },
          "metadata": {},
          "execution_count": 67
        }
      ]
    },
    {
      "cell_type": "markdown",
      "source": [
        "### Fitting the Barycentric Mapping\n",
        "\n",
        "Here we use Python Optimal Transport for fitting $T_{\\pi}$ to our sample. "
      ],
      "metadata": {
        "id": "dduOMf5VPlN7"
      }
    },
    {
      "cell_type": "code",
      "source": [
        "#collapse_output\n",
        "otda = ot.da.SinkhornTransport(reg_e=1e-2, norm='max')\n",
        "otda.fit(Xs=_Hs, ys=None, Xt=_Ht, yt=None)"
      ],
      "metadata": {
        "colab": {
          "base_uri": "https://localhost:8080/"
        },
        "id": "mqTfFbGyNRFk",
        "outputId": "bbf85295-e732-43c3-a4f9-e038aa020507"
      },
      "execution_count": 68,
      "outputs": [
        {
          "output_type": "stream",
          "name": "stderr",
          "text": [
            "/usr/local/lib/python3.7/dist-packages/ot/bregman.py:517: UserWarning: Sinkhorn did not converge. You might want to increase the number of iterations `numItermax` or the regularization parameter `reg`.\n",
            "  warnings.warn(\"Sinkhorn did not converge. You might want to \"\n"
          ]
        },
        {
          "output_type": "execute_result",
          "data": {
            "text/plain": [
              "<ot.da.SinkhornTransport at 0x7f282dcdf0d0>"
            ]
          },
          "metadata": {},
          "execution_count": 68
        }
      ]
    },
    {
      "cell_type": "markdown",
      "source": [
        "next we visualize the optimal transport plan,"
      ],
      "metadata": {
        "id": "jtTFg1VYa4YI"
      }
    },
    {
      "cell_type": "code",
      "source": [
        "plt.imshow(np.log(otda.coupling_ + 1e-12), cmap='Reds')"
      ],
      "metadata": {
        "colab": {
          "base_uri": "https://localhost:8080/",
          "height": 287
        },
        "id": "8juKv88WU_SG",
        "outputId": "e4f196dc-0ccf-4fd9-ec09-0bce5cafdd2d"
      },
      "execution_count": 73,
      "outputs": [
        {
          "output_type": "execute_result",
          "data": {
            "text/plain": [
              "<matplotlib.image.AxesImage at 0x7f28286a5b50>"
            ]
          },
          "metadata": {},
          "execution_count": 73
        },
        {
          "output_type": "display_data",
          "data": {
            "text/plain": [
              "<Figure size 432x288 with 1 Axes>"
            ],
            "image/png": "[encoded data removed]"
          },
          "metadata": {
            "needs_background": "light"
          }
        }
      ]
    },
    {
      "cell_type": "markdown",
      "source": [
        "Note that we cannot see much structure in $\\pi$. This is because source and target samples are not ordered with respect to their classes. Intuitively, samples within the same class are close to each other (e.g. ones in MNIST are closer to ones in USPS), thus we expect $\\pi$ to be __class sparse__. This notion was introduced in [1], and corresponds to the following:\n",
        "\n",
        "$$\\pi_{ij} \\neq 0 \\iff y_{S}^{i} \\neq y_{T}^{j}$$\n",
        "\n",
        "Of course, this property is not properly enforced as we did not use the label information when fitting $\\pi$. If we sort the rows and columns of $\\pi$ by the label vectors, we can see if this property is respected,"
      ],
      "metadata": {
        "id": "C30GV7NgVCyv"
      }
    },
    {
      "cell_type": "code",
      "source": [
        "plt.imshow(np.log(otda.coupling_[_Ys.argsort(), :][:, _Yt.argsort()] + 1e-12), cmap='Reds')"
      ],
      "metadata": {
        "colab": {
          "base_uri": "https://localhost:8080/",
          "height": 287
        },
        "id": "-I36Oq_Gpa7f",
        "outputId": "170068d2-91cf-49dc-d7db-7aca70212154"
      },
      "execution_count": 69,
      "outputs": [
        {
          "output_type": "execute_result",
          "data": {
            "text/plain": [
              "<matplotlib.image.AxesImage at 0x7f28298ddc50>"
            ]
          },
          "metadata": {},
          "execution_count": 69
        },
        {
          "output_type": "display_data",
          "data": {
            "text/plain": [
              "<Figure size 432x288 with 1 Axes>"
            ],
            "image/png": "[encoded data removed]"
          },
          "metadata": {
            "needs_background": "light"
          }
        }
      ]
    },
    {
      "cell_type": "markdown",
      "source": [
        "note that $\\pi$ is approximately class-sparse, reflecting the fact that features are somewhat enough to induce this desirable property."
      ],
      "metadata": {
        "id": "OGW2A8yYVu2m"
      }
    },
    {
      "cell_type": "markdown",
      "source": [
        "### Why Class Sparsity?"
      ],
      "metadata": {
        "id": "7qsGyS5BWPbG"
      }
    },
    {
      "cell_type": "markdown",
      "source": [
        "Right now, you may be wondering __why__ class sparsity is important. Well, let us take a look on __where__ samples $\\mathbf{x}_{S}^{i}$ are transported to. For a given $i$, it is mapped to,\n",
        "\n",
        "$$\\hat{\\mathbf{x}}_{S}^{i} = \\sum_{j=1}^{n_{T}}(n_{S}\\pi_{ij})\\mathbf{x}_{T}^{j}.$$\n",
        "\n",
        "Calling $\\alpha_{j} = n_{S}\\pi_{ij}$, note that $\\sum_{j}\\alpha_{j} = 1$, and $\\alpha_{j} \\geq 0$. This means that $\\hat{\\mathbf{x}}_{S}^{i}$ lies on the [__convex hull__](https://en.wikipedia.org/wiki/Convex_hull) of samples $\\mathbf{x}_{T}^{j}$ that receive mass from $\\mathbf{x}_{S}^{i}$.\n",
        "\n",
        "Now, let us take this situation to its extreme. Suppose that all $\\mathbf{x}_{T}^{j}$ for which $\\pi_{ij} > 0$ belong to a single class $k_{j}$ that differs from $k_{i}$. This means that $\\mathbf{x}_{S}^{i}$ will be transported to the wrong region of the decision boundary, thus harming adaptation performance. In other words, if $\\mathbf{x}_{S}^{i}$ corresponds to a $1$, and all $\\mathbf{x}_{T}^{j}$ are $8$'s, $\\hat{x}_{S}^{i}$ will be closer to an $8$ than to a $1$."
      ],
      "metadata": {
        "id": "9GESMAGnWRPd"
      }
    },
    {
      "cell_type": "markdown",
      "source": [
        "### Transporting and Evaluating on Target Domain\n",
        "\n",
        "Now, we get to our final step, where we measure the success of adaptation. First we need to extract features from source domain samples, then transport them to the target domain. This is done by composing the feature extractor with the mapping $T_{\\pi}$,\n",
        "\n",
        "$$\\hat{h}_{S}^{i} = T_{\\pi}(\\phi(\\mathbf{x}_{S}^{i}))$$"
      ],
      "metadata": {
        "id": "zS0T1BQugMXu"
      }
    },
    {
      "cell_type": "code",
      "source": [
        "THs, Ys = [], []\n",
        "for xs, ys in tqdm(src_loader):\n",
        "    with torch.no_grad():\n",
        "        hs, _ = model(xs)\n",
        "        hs = torch.from_numpy(otda.transform(hs.numpy()))\n",
        "        THs.append(hs)\n",
        "    Ys.append(ys)\n",
        "THs = torch.cat(THs, dim=0)\n",
        "Ys = torch.cat(Ys, dim=0)"
      ],
      "metadata": {
        "colab": {
          "base_uri": "https://localhost:8080/"
        },
        "id": "7Pm-dXOigQSt",
        "outputId": "866876bf-9c96-4d6c-ab35-fef98a2a43c3"
      },
      "execution_count": 70,
      "outputs": [
        {
          "output_type": "stream",
          "name": "stderr",
          "text": [
            "100%|██████████| 235/235 [01:15<00:00,  3.11it/s]\n"
          ]
        }
      ]
    },
    {
      "cell_type": "markdown",
      "source": [
        "In order to avoid overflowing the memory, we calculate the distance of mini-batches of target domain samples to the transported features,"
      ],
      "metadata": {
        "id": "gdnFrxCfbzjX"
      }
    },
    {
      "cell_type": "code",
      "source": [
        "Yp = torch.zeros_like(Yt)\n",
        "num_batches = len(Ht) // 64 + 1\n",
        "for i in tqdm(range(num_batches), total=num_batches):\n",
        "    ht = Ht[i * 64: (i + 1) * 64]\n",
        "    C = torch.cdist(THs, ht, 2) ** 2\n",
        "    ind_opt = C.argmin(dim=0)\n",
        "    Yp[i * 64: (i + 1) * 64] = Ys[ind_opt]"
      ],
      "metadata": {
        "colab": {
          "base_uri": "https://localhost:8080/"
        },
        "id": "pxQfmaur860U",
        "outputId": "cddbd7e4-349d-4865-c31a-e081a204dbcf"
      },
      "execution_count": 71,
      "outputs": [
        {
          "output_type": "stream",
          "name": "stderr",
          "text": [
            "100%|██████████| 114/114 [00:13<00:00,  8.41it/s]\n"
          ]
        }
      ]
    },
    {
      "cell_type": "code",
      "source": [
        "print(accuracy_score(Yt, Yp))"
      ],
      "metadata": {
        "colab": {
          "base_uri": "https://localhost:8080/"
        },
        "id": "9CZvuWzZttIc",
        "outputId": "f255b245-129a-43b1-a8aa-792ec126902f"
      },
      "execution_count": 72,
      "outputs": [
        {
          "output_type": "stream",
          "name": "stdout",
          "text": [
            "0.7860375805787958\n"
          ]
        }
      ]
    },
    {
      "cell_type": "markdown",
      "source": [
        "That is, we gained $7\\%$ in terms of performance, which represents a gain of roughly $10\\%$ in accuracy."
      ],
      "metadata": {
        "id": "XzFwm1LYXg4C"
      }
    },
    {
      "cell_type": "markdown",
      "source": [
        "## Want to Know More?\n",
        "\n",
        "Optimal Transport has made a significant impact on the machine learning community in past 10 years. If you are interested in more resources and papers on the interplay between OT and Transfer Learning, you can consider looking on,\n",
        "\n",
        "* How to induce specific structures (e.g. classes) in OT maps [1, 6]\n",
        "* Solving issues w/ extending barycentric mappings [6, 10]\n",
        "* OTDA on joint distributions [11, 12]\n",
        "* Multi-Source Domain Adaptation [13, 14]"
      ],
      "metadata": {
        "id": "oUK2BjuacjbX"
      }
    },
    {
      "cell_type": "markdown",
      "source": [
        "## References"
      ],
      "metadata": {
        "id": "bIXW-6i3QCyt"
      }
    },
    {
      "cell_type": "markdown",
      "source": [
        "[1] N. Courty, R. Flamary, D. Tuia, and A. Rakotomamonjy, “Optimal transport for domain\n",
        "adaptation,” IEEE transactions on pattern analysis and machine intelligence, vol. 39, no. 9,\n",
        "pp. 1853–1865, 2016.\n",
        "\n",
        "[2] Peyré, G., & Cuturi, M. (2019). Computational optimal transport: With applications to data science. Foundations and Trends® in Machine Learning, 11(5-6), 355-607.\n",
        "\n",
        "[3] Y. LeCun, B. Boser, J. S. Denker, D. Henderson, R. E. Howard, W. Hubbard, and L. D. Jackel, “Backpropagation applied to handwritten zip code recognition,” Neural computation, vol. 1, no. 4, pp. 541–551, 1989.\n",
        "\n",
        "[4] J. J. Hull, “A database for handwritten text recognition research,” IEEE Transactions on pattern analysis and machine intelligence, vol. 16, no. 5, pp. 550–554, 1994\n",
        "\n",
        "[5] Ganin, Y., Ustinova, E., Ajakan, H., Germain, P., Larochelle, H., Laviolette, F., ... & Lempitsky, V. (2016). Domain-adversarial training of neural networks. The journal of machine learning research, 17(1), 2096-2030.\n",
        "\n",
        "[6] Seguy, V., Damodaran, B. B., Flamary, R., Courty, N., Rolet, A., & Blondel, M. (2017). Large-scale optimal transport and mapping estimation. arXiv preprint arXiv:1711.02283.\n",
        "\n",
        "[7] Villani, C. (2009). Optimal transport: old and new (Vol. 338, p. 23). Berlin: springer.\n",
        "\n",
        "[8] Cuturi, M. (2013). Sinkhorn distances: Lightspeed computation of optimal transport. Advances in neural information processing systems, 26.\n",
        "\n",
        "[9] Ferradans, S., Papadakis, N., Peyré, G., & Aujol, J. F. (2014). Regularized discrete optimal transport. SIAM Journal on Imaging Sciences, 7(3), 1853-1882.\n",
        "\n",
        "[10] Perrot, M., Courty, N., Flamary, R., & Habrard, A. (2016). Mapping estimation for discrete optimal transport. Advances in Neural Information Processing Systems, 29.\n",
        "\n",
        "[11] Courty, N., Flamary, R., Habrard, A., & Rakotomamonjy, A. (2017). Joint distribution optimal transportation for domain adaptation. Advances in Neural Information Processing Systems, 30.\n",
        "\n",
        "[12] Damodaran, B. B., Kellenberger, B., Flamary, R., Tuia, D., & Courty, N. (2018). Deepjdot: Deep joint distribution optimal transport for unsupervised domain adaptation. In Proceedings of the European Conference on Computer Vision (ECCV) (pp. 447-463).\n",
        "\n",
        "[13] Nguyen, T., Le, T., Zhao, H., Tran, Q. H., Nguyen, T., & Phung, D. (2021, December). Most: Multi-source domain adaptation via optimal transport for student-teacher learning. In Uncertainty in Artificial Intelligence (pp. 225-235). PMLR.\n",
        "\n",
        "[14] Montesuma, E. F., & Mboula, F. M. N. (2021). Wasserstein Barycenter for Multi-Source Domain Adaptation. In Proceedings of the IEEE/CVF Conference on Computer Vision and Pattern Recognition (pp. 16785-16793)."
      ],
      "metadata": {
        "id": "SaF8V0jpQEjX"
      }
    }
  ]
}